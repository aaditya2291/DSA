{
 "cells": [
  {
   "cell_type": "code",
   "execution_count": 22,
   "metadata": {},
   "outputs": [
    {
     "data": {
      "text/plain": [
       "3"
      ]
     },
     "execution_count": 22,
     "metadata": {},
     "output_type": "execute_result"
    }
   ],
   "source": [
    "#Binary Search\n",
    "\n",
    "#this is linear search and its tc is O(n) \n",
    "l = [10,20,30,40,50,60]\n",
    "\n",
    "def lin_srch(list,srch):\n",
    "    for i in range(0,len(list)):\n",
    "        #print(list[i])\n",
    "        if list[i]==srch:\n",
    "            return(i)\n",
    "    else:\n",
    "        return(-1)\n",
    "\n",
    "lin_srch(l,40)\n",
    "# but this linear search is not utilising the fact that list is sorted hence and time can be redued to O(log(n))\n",
    "#hence we need to do binary search"
   ]
  },
  {
   "cell_type": "code",
   "execution_count": 55,
   "metadata": {},
   "outputs": [
    {
     "name": "stdout",
     "output_type": "stream",
     "text": [
      "90\n",
      "8\n",
      "100\n",
      "110\n",
      "120\n",
      "130\n",
      "140\n",
      "150\n",
      "160\n",
      "15\n"
     ]
    }
   ],
   "source": [
    "l = [10,20,30,40,50,60,70,80,90,100,110,120,130,140,150,160]\n",
    "\n",
    "def lin_search1(l,srch):\n",
    "    mid = l[len(l)//2]\n",
    "    print(mid)\n",
    "    ml = len(l)//2\n",
    "    print(ml)\n",
    "    if srch==mid:\n",
    "        print(\"i am here at eql\")\n",
    "        return(ml)\n",
    "    elif srch < mid:\n",
    "        for i in range(0,ml-1):\n",
    "            print(l[i])\n",
    "            if l[i]==srch:\n",
    "                print(i)\n",
    "                break     \n",
    "    elif srch > mid:\n",
    "        for i in range(ml+1,len(l)):\n",
    "            print(l[i])\n",
    "            if l[i]==srch:\n",
    "                print(i)\n",
    "                break\n",
    "    else:\n",
    "        print(-1)\n",
    "            \n",
    "                \n",
    "lin_search1(l,160)"
   ]
  },
  {
   "cell_type": "code",
   "execution_count": 79,
   "metadata": {},
   "outputs": [
    {
     "name": "stdout",
     "output_type": "stream",
     "text": [
      "at grtr 7 8 15\n",
      "at grtr 11 12 15\n",
      "at grtr 13 14 15\n",
      "at grtr 14 15 15\n"
     ]
    },
    {
     "data": {
      "text/plain": [
       "15"
      ]
     },
     "execution_count": 79,
     "metadata": {},
     "output_type": "execute_result"
    }
   ],
   "source": [
    "def bin_search(l,srch):\n",
    "    \n",
    "    left =0\n",
    "    right = len(l)-1\n",
    "    \n",
    "\n",
    "    while left<=right:\n",
    "        mid = (left+right)//2\n",
    "        \n",
    "        if l[mid] == srch:\n",
    "            return(mid)\n",
    "        elif l[mid] < srch:\n",
    "            left = mid+1\n",
    "            print(\"at grtr\",mid,left,right)\n",
    "        else:\n",
    "            right = mid-1\n",
    "            print(\"at lsr\",mid,left,right)\n",
    "    else:\n",
    "        return(-1)\n",
    "\n",
    "bin_search(l,160)"
   ]
  },
  {
   "cell_type": "code",
   "execution_count": 69,
   "metadata": {},
   "outputs": [
    {
     "data": {
      "text/plain": [
       "-1"
      ]
     },
     "execution_count": 69,
     "metadata": {},
     "output_type": "execute_result"
    }
   ],
   "source": [
    "#recursive binary search (right now its faulty)\n",
    "def bsrec(l,x,left,right):\n",
    "    if left > right:\n",
    "        return -1\n",
    "    mid = (left+right)//2\n",
    "\n",
    "    if mid == x:\n",
    "        return mid\n",
    "    elif l[mid] > x:\n",
    "        return(bsrec(l,x,left,mid-1))\n",
    "    else:\n",
    "        return(bsrec(l,x,mid+1,right))\n",
    "    \n",
    "\n",
    "bsrec(l,160,0,15)"
   ]
  },
  {
   "cell_type": "code",
   "execution_count": 75,
   "metadata": {},
   "outputs": [
    {
     "data": {
      "text/plain": [
       "3"
      ]
     },
     "execution_count": 75,
     "metadata": {},
     "output_type": "execute_result"
    }
   ],
   "source": [
    "#index of first occurence in a sorted array\n",
    "#naive solution\n",
    "l1 = [1,10,10,20,20,40]\n",
    "def fos(l,x):\n",
    "    for i in range(0,len(l)):\n",
    "        if x==l[i]:\n",
    "            return(i)\n",
    "    else:\n",
    "        return(-1)\n",
    "fos(l1,20)\n"
   ]
  },
  {
   "cell_type": "code",
   "execution_count": 83,
   "metadata": {},
   "outputs": [
    {
     "ename": "TypeError",
     "evalue": "object of type 'int' has no len()",
     "output_type": "error",
     "traceback": [
      "\u001b[1;31m---------------------------------------------------------------------------\u001b[0m",
      "\u001b[1;31mTypeError\u001b[0m                                 Traceback (most recent call last)",
      "Cell \u001b[1;32mIn[83], line 17\u001b[0m\n\u001b[0;32m     14\u001b[0m         \u001b[38;5;28;01melse\u001b[39;00m:\n\u001b[0;32m     15\u001b[0m             l\u001b[38;5;241m=\u001b[39mm\u001b[38;5;241m+\u001b[39m\u001b[38;5;241m1\u001b[39m\n\u001b[1;32m---> 17\u001b[0m \u001b[43mfos_b\u001b[49m\u001b[43m(\u001b[49m\u001b[43ml1\u001b[49m\u001b[43m,\u001b[49m\u001b[38;5;241;43m20\u001b[39;49m\u001b[43m)\u001b[49m\n",
      "Cell \u001b[1;32mIn[83], line 6\u001b[0m, in \u001b[0;36mfos_b\u001b[1;34m(l, x)\u001b[0m\n\u001b[0;32m      4\u001b[0m \u001b[38;5;28;01mdef\u001b[39;00m \u001b[38;5;21mfos_b\u001b[39m(l,x):\n\u001b[0;32m      5\u001b[0m     l \u001b[38;5;241m=\u001b[39m \u001b[38;5;241m0\u001b[39m\n\u001b[1;32m----> 6\u001b[0m     r \u001b[38;5;241m=\u001b[39m \u001b[38;5;28;43mlen\u001b[39;49m\u001b[43m(\u001b[49m\u001b[43ml\u001b[49m\u001b[43m)\u001b[49m\u001b[38;5;241m-\u001b[39m\u001b[38;5;241m1\u001b[39m\n\u001b[0;32m      8\u001b[0m     m \u001b[38;5;241m=\u001b[39m (l\u001b[38;5;241m+\u001b[39mr)\u001b[38;5;241m/\u001b[39m\u001b[38;5;241m/\u001b[39m\u001b[38;5;241m2\u001b[39m\n\u001b[0;32m      9\u001b[0m     \u001b[38;5;28;01mwhile\u001b[39;00m l\u001b[38;5;241m<\u001b[39m\u001b[38;5;241m=\u001b[39mr:\n",
      "\u001b[1;31mTypeError\u001b[0m: object of type 'int' has no len()"
     ]
    }
   ],
   "source": []
  },
  {
   "cell_type": "code",
   "execution_count": 82,
   "metadata": {},
   "outputs": [
    {
     "data": {
      "text/plain": [
       "6"
      ]
     },
     "execution_count": 82,
     "metadata": {},
     "output_type": "execute_result"
    }
   ],
   "source": [
    "len(l1)"
   ]
  },
  {
   "cell_type": "code",
   "execution_count": 95,
   "metadata": {},
   "outputs": [
    {
     "data": {
      "text/plain": [
       "4"
      ]
     },
     "execution_count": 95,
     "metadata": {},
     "output_type": "execute_result"
    }
   ],
   "source": [
    "#bin_serach for first occurence\n",
    "l1 = [1,10,10,10,20,20,40]\n",
    "\n",
    "def fos_b(ls,x):\n",
    "    l = 0\n",
    "    r = len(ls)-1\n",
    " \n",
    "    while l<=r:\n",
    "        m = (l+r)//2\n",
    "        \n",
    "        if x < ls[m]:\n",
    "            r=m-1\n",
    "        elif x >ls[m]:\n",
    "            l=m+1\n",
    "        else:\n",
    "            if m==0 or ls[m-1]!=ls[m]:\n",
    "                return(m)\n",
    "            else:\n",
    "                r=m-1\n",
    "    return(-1)\n",
    "\n",
    "fos_b(l1,20)"
   ]
  },
  {
   "cell_type": "code",
   "execution_count": 97,
   "metadata": {},
   "outputs": [
    {
     "data": {
      "text/plain": [
       "5"
      ]
     },
     "execution_count": 97,
     "metadata": {},
     "output_type": "execute_result"
    }
   ],
   "source": [
    "def fsb(ls,x):\n",
    "    l =0\n",
    "    h = len(ls)-1\n",
    "\n",
    "    while (l<=h):\n",
    "        m = (l+h)//2\n",
    "\n",
    "        if x < ls[m]:\n",
    "            h = m-1 \n",
    "        elif x > ls[m]:\n",
    "            l = m+1\n",
    "        else:\n",
    "            if x==ls[m] or ls[m-1]!=ls[m]:\n",
    "                return(m)\n",
    "            else:\n",
    "                h=m-1\n",
    "    return(-1)\n",
    "fsb(l1,20)"
   ]
  },
  {
   "cell_type": "code",
   "execution_count": null,
   "metadata": {},
   "outputs": [],
   "source": []
  },
  {
   "cell_type": "code",
   "execution_count": null,
   "metadata": {},
   "outputs": [],
   "source": []
  },
  {
   "cell_type": "code",
   "execution_count": null,
   "metadata": {},
   "outputs": [],
   "source": []
  },
  {
   "cell_type": "code",
   "execution_count": null,
   "metadata": {},
   "outputs": [],
   "source": []
  },
  {
   "cell_type": "code",
   "execution_count": null,
   "metadata": {},
   "outputs": [],
   "source": []
  },
  {
   "cell_type": "code",
   "execution_count": null,
   "metadata": {},
   "outputs": [],
   "source": []
  },
  {
   "cell_type": "code",
   "execution_count": null,
   "metadata": {},
   "outputs": [],
   "source": []
  },
  {
   "cell_type": "code",
   "execution_count": null,
   "metadata": {},
   "outputs": [],
   "source": []
  },
  {
   "cell_type": "code",
   "execution_count": null,
   "metadata": {},
   "outputs": [],
   "source": []
  },
  {
   "cell_type": "code",
   "execution_count": null,
   "metadata": {},
   "outputs": [],
   "source": []
  },
  {
   "cell_type": "code",
   "execution_count": null,
   "metadata": {},
   "outputs": [],
   "source": []
  },
  {
   "cell_type": "code",
   "execution_count": null,
   "metadata": {},
   "outputs": [],
   "source": []
  },
  {
   "cell_type": "code",
   "execution_count": null,
   "metadata": {},
   "outputs": [],
   "source": []
  },
  {
   "cell_type": "code",
   "execution_count": null,
   "metadata": {},
   "outputs": [],
   "source": []
  },
  {
   "cell_type": "code",
   "execution_count": null,
   "metadata": {},
   "outputs": [],
   "source": []
  },
  {
   "cell_type": "code",
   "execution_count": null,
   "metadata": {},
   "outputs": [],
   "source": []
  },
  {
   "cell_type": "code",
   "execution_count": null,
   "metadata": {},
   "outputs": [],
   "source": []
  },
  {
   "cell_type": "code",
   "execution_count": null,
   "metadata": {},
   "outputs": [],
   "source": []
  },
  {
   "cell_type": "code",
   "execution_count": null,
   "metadata": {},
   "outputs": [],
   "source": []
  },
  {
   "cell_type": "code",
   "execution_count": null,
   "metadata": {},
   "outputs": [],
   "source": []
  },
  {
   "cell_type": "code",
   "execution_count": null,
   "metadata": {},
   "outputs": [],
   "source": []
  },
  {
   "cell_type": "code",
   "execution_count": null,
   "metadata": {},
   "outputs": [],
   "source": []
  },
  {
   "cell_type": "code",
   "execution_count": null,
   "metadata": {},
   "outputs": [],
   "source": []
  },
  {
   "cell_type": "code",
   "execution_count": null,
   "metadata": {},
   "outputs": [],
   "source": []
  },
  {
   "cell_type": "code",
   "execution_count": null,
   "metadata": {},
   "outputs": [],
   "source": []
  },
  {
   "cell_type": "code",
   "execution_count": null,
   "metadata": {},
   "outputs": [],
   "source": []
  }
 ],
 "metadata": {
  "kernelspec": {
   "display_name": ".venv",
   "language": "python",
   "name": "python3"
  },
  "language_info": {
   "codemirror_mode": {
    "name": "ipython",
    "version": 3
   },
   "file_extension": ".py",
   "mimetype": "text/x-python",
   "name": "python",
   "nbconvert_exporter": "python",
   "pygments_lexer": "ipython3",
   "version": "3.10.11"
  }
 },
 "nbformat": 4,
 "nbformat_minor": 2
}
