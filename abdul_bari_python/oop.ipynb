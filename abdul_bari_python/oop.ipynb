{
 "cells": [
  {
   "cell_type": "code",
   "execution_count": 5,
   "metadata": {},
   "outputs": [],
   "source": [
    "# how to write class\n",
    "\n",
    "class cuboid:\n",
    "    def __init__(self,l,b,h):\n",
    "        print(id(self))\n",
    "        self.length=l \n",
    "        self.breadth=b \n",
    "        self.height=h\n",
    "    \n",
    "    def lidarea(self):\n",
    "        return self.length*self.breadth\n",
    "    \n",
    "    def volume(self):\n",
    "        return self.length*self.breadth*self.height\n",
    "    \n"
   ]
  },
  {
   "cell_type": "code",
   "execution_count": 9,
   "metadata": {},
   "outputs": [
    {
     "name": "stdout",
     "output_type": "stream",
     "text": [
      "1820350471888\n",
      "50\n",
      "150\n",
      "10 5 3\n",
      "1820350471888\n"
     ]
    }
   ],
   "source": [
    "c1 = cuboid(10,5,3)\n",
    "print(c1.lidarea())\n",
    "print(c1.volume())\n",
    "print(c1.length,c1.breadth,c1.height)\n",
    "print(id(c1))"
   ]
  },
  {
   "cell_type": "code",
   "execution_count": 10,
   "metadata": {},
   "outputs": [
    {
     "name": "stdout",
     "output_type": "stream",
     "text": [
      "1820350469968\n",
      "5000\n",
      "150000\n",
      "100 50 30\n",
      "1820350469968\n"
     ]
    }
   ],
   "source": [
    "c2 = cuboid(100,50,30)\n",
    "print(c2.lidarea())\n",
    "print(c2.volume())\n",
    "print(c2.length,c2.breadth,c2.height)\n",
    "print(id(c2))"
   ]
  },
  {
   "cell_type": "code",
   "execution_count": 14,
   "metadata": {},
   "outputs": [
    {
     "name": "stdout",
     "output_type": "stream",
     "text": [
      "50\n",
      "50\n"
     ]
    }
   ],
   "source": [
    "class rect:\n",
    "    def __init__(self,length,breadth):\n",
    "        self.length = length   #---- instance variables\n",
    "        self.breadth = breadth #---- instance varaibles\n",
    "    \n",
    "    def area(self):# instance method\n",
    "        return(self.length*self.breadth)\n",
    "    \n",
    "    def perimeter(self):\n",
    "        return 2*(self.length+self.breadth)\n",
    "\n",
    "r1 = rect(10,5)\n",
    "\n",
    "print(r1.area())\n",
    "\n",
    "print(rect.area(r1))"
   ]
  },
  {
   "cell_type": "code",
   "execution_count": 20,
   "metadata": {},
   "outputs": [
    {
     "name": "stdout",
     "output_type": "stream",
     "text": [
      "['__class__', '__delattr__', '__dict__', '__dir__', '__doc__', '__eq__', '__format__', '__ge__', '__getattribute__', '__gt__', '__hash__', '__init__', '__init_subclass__', '__le__', '__lt__', '__module__', '__ne__', '__new__', '__reduce__', '__reduce_ex__', '__repr__', '__setattr__', '__sizeof__', '__str__', '__subclasshook__', '__weakref__', 'a', 'b', 'fun']\n",
      "10\n"
     ]
    }
   ],
   "source": [
    "class test:\n",
    "    def __init__(self):\n",
    "        self.a=10 # this instance variable is automatically called \n",
    "    \n",
    "    def fun(self):\n",
    "        self.b=20# this instance varaible is called when the fun is called \n",
    "\n",
    "t1 = test()\n",
    "t1.fun()\n",
    "print(dir(t1))\n",
    "print(t1.a) "
   ]
  },
  {
   "cell_type": "code",
   "execution_count": 21,
   "metadata": {},
   "outputs": [
    {
     "name": "stdout",
     "output_type": "stream",
     "text": [
      "3\n",
      "50\n",
      "21\n",
      "36\n",
      "True\n"
     ]
    }
   ],
   "source": [
    "class rect:\n",
    "    count = 0 # class variable\n",
    "    def __init__(self,length,breadth):\n",
    "        self.length = length\n",
    "        self.breadth = breadth\n",
    "        rect.count+=1 \n",
    "    def area(self):\n",
    "        return(self.length*self.breadth)\n",
    "\n",
    "    @classmethod     # class method which calls class variable \n",
    "    def countrect(cls):\n",
    "        print(cls.count)\n",
    "\n",
    "    @staticmethod    # static method which does not affect any memeber of the class\n",
    "    def issquare(len,bre):\n",
    "        return len==bre\n",
    "    \n",
    "\n",
    "r1 = rect(10,5)\n",
    "r2 = rect(3,7)\n",
    "r3 = rect(4,9)\n",
    "\n",
    "print(rect.count)\n",
    "print(r1.area())\n",
    "print(r2.area())\n",
    "print(r3.area())\n",
    "print(rect.issquare(4,4))"
   ]
  },
  {
   "cell_type": "code",
   "execution_count": null,
   "metadata": {},
   "outputs": [],
   "source": []
  },
  {
   "cell_type": "code",
   "execution_count": null,
   "metadata": {},
   "outputs": [],
   "source": [
    "class rect:\n",
    "    def __init__(self,length,breadth):\n",
    "        self.length = length\n",
    "        self.breadth = breadth\n",
    "        \n",
    "    def get_l(self):\n",
    "        return(self.length)\n",
    "    \n",
    "    def set_l(self,length):\n",
    "        self.length=length\n",
    "\n",
    "    def area(self):\n",
    "        return(self.length*self.breadth)\n",
    "    \n",
    "r = rect(10,5)\n",
    "print(r.area())\n",
    "print(r.get_l())\n",
    "r.set_l(12)\n",
    "print(r.area())"
   ]
  },
  {
   "cell_type": "code",
   "execution_count": null,
   "metadata": {},
   "outputs": [],
   "source": []
  },
  {
   "cell_type": "code",
   "execution_count": null,
   "metadata": {},
   "outputs": [],
   "source": [
    "#inheritance\n",
    "class cuboid(rect):\n",
    "    def __init__(self, length, breadth,height):\n",
    "        super().__init__(length, breadth)\n",
    "        self.height = height \n",
    "    \n",
    "    def volume(self):\n",
    "        return(self.length*self.breadth*self.height)\n",
    "\n",
    "r = cuboid(10,5,7)"
   ]
  },
  {
   "cell_type": "code",
   "execution_count": null,
   "metadata": {},
   "outputs": [],
   "source": []
  },
  {
   "cell_type": "code",
   "execution_count": null,
   "metadata": {},
   "outputs": [],
   "source": []
  },
  {
   "cell_type": "code",
   "execution_count": null,
   "metadata": {},
   "outputs": [],
   "source": []
  },
  {
   "cell_type": "code",
   "execution_count": null,
   "metadata": {},
   "outputs": [],
   "source": []
  },
  {
   "cell_type": "code",
   "execution_count": null,
   "metadata": {},
   "outputs": [],
   "source": []
  },
  {
   "cell_type": "code",
   "execution_count": null,
   "metadata": {},
   "outputs": [],
   "source": []
  },
  {
   "cell_type": "code",
   "execution_count": null,
   "metadata": {},
   "outputs": [],
   "source": []
  },
  {
   "cell_type": "code",
   "execution_count": null,
   "metadata": {},
   "outputs": [],
   "source": []
  },
  {
   "cell_type": "code",
   "execution_count": null,
   "metadata": {},
   "outputs": [],
   "source": []
  },
  {
   "cell_type": "code",
   "execution_count": null,
   "metadata": {},
   "outputs": [],
   "source": []
  },
  {
   "cell_type": "code",
   "execution_count": null,
   "metadata": {},
   "outputs": [],
   "source": []
  },
  {
   "cell_type": "code",
   "execution_count": null,
   "metadata": {},
   "outputs": [],
   "source": []
  },
  {
   "cell_type": "code",
   "execution_count": null,
   "metadata": {},
   "outputs": [],
   "source": []
  },
  {
   "cell_type": "code",
   "execution_count": null,
   "metadata": {},
   "outputs": [],
   "source": []
  },
  {
   "cell_type": "code",
   "execution_count": null,
   "metadata": {},
   "outputs": [],
   "source": []
  }
 ],
 "metadata": {
  "kernelspec": {
   "display_name": ".venv",
   "language": "python",
   "name": "python3"
  },
  "language_info": {
   "codemirror_mode": {
    "name": "ipython",
    "version": 3
   },
   "file_extension": ".py",
   "mimetype": "text/x-python",
   "name": "python",
   "nbconvert_exporter": "python",
   "pygments_lexer": "ipython3",
   "version": "3.10.11"
  }
 },
 "nbformat": 4,
 "nbformat_minor": 2
}
