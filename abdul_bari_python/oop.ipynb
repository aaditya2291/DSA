{
 "cells": [
  {
   "cell_type": "code",
   "execution_count": 5,
   "metadata": {},
   "outputs": [],
   "source": [
    "# how to write class\n",
    "\n",
    "class cuboid:\n",
    "    def __init__(self,l,b,h):\n",
    "        print(id(self))\n",
    "        self.length=l \n",
    "        self.breadth=b \n",
    "        self.height=h\n",
    "    \n",
    "    def lidarea(self):\n",
    "        return self.length*self.breadth\n",
    "    \n",
    "    def volume(self):\n",
    "        return self.length*self.breadth*self.height\n",
    "    \n"
   ]
  },
  {
   "cell_type": "code",
   "execution_count": 9,
   "metadata": {},
   "outputs": [
    {
     "name": "stdout",
     "output_type": "stream",
     "text": [
      "1820350471888\n",
      "50\n",
      "150\n",
      "10 5 3\n",
      "1820350471888\n"
     ]
    }
   ],
   "source": [
    "c1 = cuboid(10,5,3)\n",
    "print(c1.lidarea())\n",
    "print(c1.volume())\n",
    "print(c1.length,c1.breadth,c1.height)\n",
    "print(id(c1))"
   ]
  },
  {
   "cell_type": "code",
   "execution_count": 10,
   "metadata": {},
   "outputs": [
    {
     "name": "stdout",
     "output_type": "stream",
     "text": [
      "1820350469968\n",
      "5000\n",
      "150000\n",
      "100 50 30\n",
      "1820350469968\n"
     ]
    }
   ],
   "source": [
    "c2 = cuboid(100,50,30)\n",
    "print(c2.lidarea())\n",
    "print(c2.volume())\n",
    "print(c2.length,c2.breadth,c2.height)\n",
    "print(id(c2))"
   ]
  },
  {
   "cell_type": "code",
   "execution_count": 14,
   "metadata": {},
   "outputs": [
    {
     "name": "stdout",
     "output_type": "stream",
     "text": [
      "50\n",
      "50\n"
     ]
    }
   ],
   "source": [
    "class rect:\n",
    "    def __init__(self,length,breadth):\n",
    "        self.length = length   #---- instance variables\n",
    "        self.breadth = breadth #---- instance varaibles\n",
    "    \n",
    "    def area(self):# instance method\n",
    "        return(self.length*self.breadth)\n",
    "    \n",
    "    def perimeter(self):\n",
    "        return 2*(self.length+self.breadth)\n",
    "\n",
    "r1 = rect(10,5)\n",
    "\n",
    "print(r1.area())\n",
    "\n",
    "print(rect.area(r1))"
   ]
  },
  {
   "cell_type": "code",
   "execution_count": 20,
   "metadata": {},
   "outputs": [
    {
     "name": "stdout",
     "output_type": "stream",
     "text": [
      "['__class__', '__delattr__', '__dict__', '__dir__', '__doc__', '__eq__', '__format__', '__ge__', '__getattribute__', '__gt__', '__hash__', '__init__', '__init_subclass__', '__le__', '__lt__', '__module__', '__ne__', '__new__', '__reduce__', '__reduce_ex__', '__repr__', '__setattr__', '__sizeof__', '__str__', '__subclasshook__', '__weakref__', 'a', 'b', 'fun']\n",
      "10\n"
     ]
    }
   ],
   "source": [
    "class test:\n",
    "    def __init__(self):\n",
    "        self.a=10 # this instance variable is automatically called \n",
    "    \n",
    "    def fun(self):\n",
    "        self.b=20# this instance varaible is called when the fun is called \n",
    "\n",
    "t1 = test()\n",
    "t1.fun()\n",
    "print(dir(t1))\n",
    "print(t1.a) "
   ]
  },
  {
   "cell_type": "code",
   "execution_count": 21,
   "metadata": {},
   "outputs": [
    {
     "name": "stdout",
     "output_type": "stream",
     "text": [
      "3\n",
      "50\n",
      "21\n",
      "36\n",
      "True\n"
     ]
    }
   ],
   "source": [
    "class rect:\n",
    "    count = 0 # class variable\n",
    "    def __init__(self,length,breadth):\n",
    "        self.length = length\n",
    "        self.breadth = breadth\n",
    "        rect.count+=1 \n",
    "    def area(self):\n",
    "        return(self.length*self.breadth)\n",
    "\n",
    "    @classmethod     # class method which calls class variable \n",
    "    def countrect(cls):\n",
    "        print(cls.count)\n",
    "\n",
    "    @staticmethod    # static method which does not affect any memeber of the class\n",
    "    def issquare(len,bre):\n",
    "        return len==bre\n",
    "    \n",
    "\n",
    "r1 = rect(10,5)\n",
    "r2 = rect(3,7)\n",
    "r3 = rect(4,9)\n",
    "\n",
    "print(rect.count)\n",
    "print(r1.area())\n",
    "print(r2.area())\n",
    "print(r3.area())\n",
    "print(rect.issquare(4,4))"
   ]
  },
  {
   "cell_type": "code",
   "execution_count": null,
   "metadata": {},
   "outputs": [],
   "source": []
  },
  {
   "cell_type": "code",
   "execution_count": null,
   "metadata": {},
   "outputs": [],
   "source": [
    "class rect:\n",
    "    def __init__(self,length,breadth):\n",
    "        self.length = length\n",
    "        self.breadth = breadth\n",
    "        \n",
    "    def get_l(self):\n",
    "        return(self.length)\n",
    "    \n",
    "    def set_l(self,length):\n",
    "        self.length=length\n",
    "\n",
    "    def area(self):\n",
    "        return(self.length*self.breadth)\n",
    "    \n",
    "r = rect(10,5)\n",
    "print(r.area())\n",
    "print(r.get_l())\n",
    "r.set_l(12)\n",
    "print(r.area())"
   ]
  },
  {
   "cell_type": "code",
   "execution_count": null,
   "metadata": {},
   "outputs": [],
   "source": []
  },
  {
   "cell_type": "code",
   "execution_count": null,
   "metadata": {},
   "outputs": [],
   "source": [
    "#inheritance\n",
    "class cuboid(rect): # calling class rect for inherting \n",
    "    def __init__(self, length, breadth,height):\n",
    "        super().__init__(length, breadth)\n",
    "        self.height = height \n",
    "    \n",
    "    def volume(self):\n",
    "        return(self.length*self.breadth*self.height)\n",
    "\n",
    "r = cuboid(10,5,7)"
   ]
  },
  {
   "cell_type": "code",
   "execution_count": 5,
   "metadata": {},
   "outputs": [
    {
     "name": "stdout",
     "output_type": "stream",
     "text": [
      "Yranch, Montana\n",
      "\n",
      "None\n",
      "NewRanch, Texas\n",
      "\n",
      "None\n"
     ]
    }
   ],
   "source": [
    "class customer:\n",
    "    def __init__(self,id,name,bstate,bcountry,shpstate,shpcountry):\n",
    "        self.id=id \n",
    "        self.name=name \n",
    "        self.baddr = self.Address(bstate,bcountry)    # baddr is object for the nested class Address\n",
    "        self.saddr = self.Address(shpstate,shpcountry)# saddr is object for the nested class Address       \n",
    "    \n",
    "    class Address:                          # nested class which contains details of the baddr and saddr\n",
    "        def __init__(self,state,country):\n",
    "            self.state = state \n",
    "            self.country = country \n",
    "        def display(self):\n",
    "            print(self.state+', '+self.country)\n",
    "            print()\n",
    "\n",
    "c = customer(103,'john','Yranch','Montana','NewRanch','Texas')\n",
    "print(c.baddr.display())\n",
    "print(c.saddr.display())\n",
    "\n"
   ]
  },
  {
   "cell_type": "code",
   "execution_count": null,
   "metadata": {},
   "outputs": [],
   "source": [
    "\n",
    "#polymorphism \n",
    "#duck typing\n",
    "in this duck typing same function can be used in different classes "
   ]
  },
  {
   "cell_type": "code",
   "execution_count": 9,
   "metadata": {},
   "outputs": [
    {
     "name": "stdout",
     "output_type": "stream",
     "text": [
      "the duck is walking\n",
      "quack quack, the duck is talking\n",
      "the DOG is walking\n",
      "Bark Bark the dog is barking\n"
     ]
    }
   ],
   "source": [
    "def petlvr(pet):\n",
    "    if hasattr(pet,'walk'):\n",
    "     pet.walk()\n",
    "    if hasattr(pet,'talk'):\n",
    "     pet.talk()\n",
    "\n",
    "class Duck:\n",
    "    def walk(self):\n",
    "        print(\"the duck is walking\")\n",
    "    def talk(self):\n",
    "        print(\"quack quack, the duck is talking\")\n",
    "\n",
    "#\n",
    "class Dog:\n",
    "    def walk(self):\n",
    "        print(\"the DOG is walking\")\n",
    "    def talk(self):\n",
    "        print(\"Bark Bark the dog is barking\")\n",
    "\n",
    "p1 = Duck()\n",
    "p1.walk() \n",
    "p1.talk()\n",
    "\n",
    "p2 = Dog()\n",
    "p2.walk()\n",
    "p2.talk()"
   ]
  },
  {
   "cell_type": "code",
   "execution_count": null,
   "metadata": {},
   "outputs": [],
   "source": [
    "# method overloading \n",
    "#one method act differnetly in different situations"
   ]
  },
  {
   "cell_type": "code",
   "execution_count": null,
   "metadata": {},
   "outputs": [],
   "source": []
  },
  {
   "cell_type": "code",
   "execution_count": null,
   "metadata": {},
   "outputs": [],
   "source": []
  },
  {
   "cell_type": "code",
   "execution_count": 10,
   "metadata": {},
   "outputs": [],
   "source": [
    "# method overriding \n",
    "#method which is present in both parent class and child class and behave acorrdingly to their classes present"
   ]
  },
  {
   "cell_type": "code",
   "execution_count": null,
   "metadata": {},
   "outputs": [
    {
     "name": "stdout",
     "output_type": "stream",
     "text": [
      "home button is pressed\n",
      "home button is touched\n",
      "home button is pressed\n"
     ]
    }
   ],
   "source": [
    "class iphone6:\n",
    "    def home(self):\n",
    "        print('home button is pressed')\n",
    "\n",
    "class iphonex(iphone6):\n",
    "    def home(self):\n",
    "        print('home button is touched')\n",
    "        super().home() # this is method overriding\n",
    "\n",
    "isix = iphone6()\n",
    "isix.home()\n",
    "\n",
    "ix = iphonex()\n",
    "ix.home()"
   ]
  },
  {
   "cell_type": "code",
   "execution_count": null,
   "metadata": {},
   "outputs": [],
   "source": [
    "# operator overloading \n"
   ]
  },
  {
   "cell_type": "code",
   "execution_count": 13,
   "metadata": {},
   "outputs": [],
   "source": [
    "#Abstract classes"
   ]
  },
  {
   "cell_type": "code",
   "execution_count": 24,
   "metadata": {},
   "outputs": [
    {
     "name": "stdout",
     "output_type": "stream",
     "text": [
      "show method from child\n",
      "show method from parent\n",
      "display from parent\n"
     ]
    }
   ],
   "source": [
    "from abc import ABC , abstractmethod \n",
    "\n",
    "class Parent(ABC):\n",
    "    \n",
    "    def __init__(self):\n",
    "        super().__init__()\n",
    "\n",
    "    @abstractmethod\n",
    "    def show(self):\n",
    "        print(\"show method from parent\")\n",
    "    \n",
    "    def display(self):\n",
    "        print(\"display from parent\")\n",
    "\n",
    "class child(Parent):\n",
    "    def __init__(self):\n",
    "        super().__init__()\n",
    "    \n",
    "    def show(self):\n",
    "        print(\"show method from child\")\n",
    "        super().show()\n",
    "\n",
    "c = child()\n",
    "c.show()\n",
    "c.display()\n",
    "\n",
    "\n"
   ]
  },
  {
   "cell_type": "code",
   "execution_count": 39,
   "metadata": {},
   "outputs": [
    {
     "name": "stdout",
     "output_type": "stream",
     "text": [
      "2\n",
      "6\n"
     ]
    }
   ],
   "source": [
    "#challenge 1 \n",
    "#dice in games\n",
    "\n",
    "\n",
    "class Dice:\n",
    "    def __init__(self,sides):\n",
    "        self.sides=sides\n",
    "    \n",
    "    def roll_dice(self):\n",
    "        from random import randint\n",
    "        return(randint(1,self.sides))\n",
    "d = Dice(12)\n",
    "print(d.roll_dice())\n",
    "print(d.roll_dice())"
   ]
  },
  {
   "cell_type": "code",
   "execution_count": 50,
   "metadata": {},
   "outputs": [
    {
     "name": "stdout",
     "output_type": "stream",
     "text": [
      "153.93804002589985\n",
      "43.982297150257104\n"
     ]
    }
   ],
   "source": [
    "#challenge2 \n",
    "#class for circle\n",
    "\n",
    "from math import * \n",
    "\n",
    "class Circle:\n",
    "    def __init__(self,radius):\n",
    "        self.radius = radius\n",
    "    \n",
    "    def area(self)-> float:\n",
    "        '''area of the circle'''\n",
    "        return(pi*self.radius**2)\n",
    "    #\n",
    "    def perimeter(self) -> float:\n",
    "        '''perimeter of the circle '''\n",
    "        return(2*pi*self.radius)\n",
    "\n",
    "c = Circle(7)\n",
    "print(c.area())\n",
    "print(c.perimeter())"
   ]
  },
  {
   "cell_type": "code",
   "execution_count": 52,
   "metadata": {},
   "outputs": [
    {
     "name": "stdout",
     "output_type": "stream",
     "text": [
      "the title of the book is  mindset\n",
      "the author of the book is  dr Carol s dweck\n",
      "the price of the book is  $10\n"
     ]
    }
   ],
   "source": [
    "class book:\n",
    "\n",
    "    def __init__(self,t,a,p):\n",
    "        self.title=t\n",
    "        self.author=a \n",
    "        self.price = p \n",
    "    \n",
    "    #\n",
    "    def show_details(self) -> any:\n",
    "        print(\"the title of the book is \",self.title)\n",
    "        print(\"the author of the book is \",self.author)\n",
    "        print(\"the price of the book is \",self.price)\n",
    "    \n",
    "b = book('mindset','dr Carol s dweck','$10')\n",
    "b.show_details()\n"
   ]
  },
  {
   "cell_type": "code",
   "execution_count": 80,
   "metadata": {},
   "outputs": [
    {
     "name": "stdout",
     "output_type": "stream",
     "text": [
      "e101 a 1000 salesperson\n",
      "e102 b 2000 salesmanager\n",
      "e103 c 10000 ceo\n",
      "3\n"
     ]
    }
   ],
   "source": [
    "#challenge of employee\n",
    "\n",
    "class emp:\n",
    "    emp_count = 101  # class variable\n",
    "    def __init__(self,name,salary,designation):\n",
    "        self.name=name\n",
    "        self.salary=salary \n",
    "        self.designation=designation\n",
    "        self.emp_id='e'+str(emp.emp_count) # emp id is being created with class variable and is called by self\n",
    "        emp.emp_count += 1  # class variable is incremented and is called using class name\n",
    "    #\n",
    "    def show_details(self):\n",
    "        print(self.emp_id,self.name,self.salary,self.designation)\n",
    "    \n",
    "    @classmethod\n",
    "    def total_emp(cls):\n",
    "        print(cls.emp_count-101)\n",
    "\n",
    "\n",
    "e1 = emp('a',1000,'salesperson') \n",
    "e2 = emp('b',2000,'salesmanager')\n",
    "e3 = emp('c',10000,'ceo')\n",
    "\n",
    "e1.show_details()\n",
    "e2.show_details()\n",
    "e3.show_details()\n",
    "emp.total_emp()"
   ]
  },
  {
   "cell_type": "code",
   "execution_count": 83,
   "metadata": {},
   "outputs": [
    {
     "name": "stdout",
     "output_type": "stream",
     "text": [
      "15\n",
      "5\n",
      "50\n",
      "2\n"
     ]
    }
   ],
   "source": [
    "#static method \n",
    "\n",
    "class calculator:\n",
    "    def __init__(self):\n",
    "        pass\n",
    "\n",
    "    @staticmethod    \n",
    "    def add(a,b):\n",
    "        return(a+b)\n",
    "\n",
    "    @staticmethod\n",
    "    def sub(a,b):\n",
    "        return(a-b)\n",
    "    \n",
    "    @staticmethod\n",
    "    def mul(a,b):\n",
    "        return(a*b)\n",
    "    \n",
    "    @staticmethod\n",
    "    def div(a,b):\n",
    "        return(a//b)\n",
    "\n",
    "print(calculator.add(10,5))\n",
    "print(calculator.sub(10,5))\n",
    "print(calculator.mul(10,5))\n",
    "print(calculator.div(10,5))\n",
    "\n",
    "\n"
   ]
  },
  {
   "cell_type": "code",
   "execution_count": 85,
   "metadata": {},
   "outputs": [
    {
     "name": "stdout",
     "output_type": "stream",
     "text": [
      "a\n",
      "1234\n"
     ]
    },
    {
     "data": {
      "text/plain": [
       "5678"
      ]
     },
     "execution_count": 85,
     "metadata": {},
     "output_type": "execute_result"
    }
   ],
   "source": [
    "#customer phone challenge using get and set methods \n",
    "\n",
    "class customer_new:\n",
    "    def __init__(self,name,phoneno):\n",
    "        self.name=name \n",
    "        self.phoneno = phoneno\n",
    "    \n",
    "    def get_name(self):\n",
    "        return(self.name)\n",
    "    def get_phoneno(self):\n",
    "        return(self.phoneno)\n",
    "    def set_phoneno(self,x):\n",
    "        self.phoneno=x \n",
    "\n",
    "c = customer_new('a',1234)\n",
    "print(c.get_name())\n",
    "print(c.get_phoneno())\n",
    "c.set_phoneno(5678)\n",
    "c.get_phoneno()"
   ]
  },
  {
   "cell_type": "code",
   "execution_count": 92,
   "metadata": {},
   "outputs": [
    {
     "data": {
      "text/plain": [
       "'audconversion is 5000'"
      ]
     },
     "execution_count": 92,
     "metadata": {},
     "output_type": "execute_result"
    }
   ],
   "source": [
    "#challenge Currency converter \n",
    "\n",
    "class currency:\n",
    "    def __init__(self,currency,rate):\n",
    "        self.currency=currency \n",
    "        self.rate=rate\n",
    "    #\n",
    "    def get_currency(self)->str:\n",
    "        return(self.currency)\n",
    "    def set_currency(self,curr)->str:\n",
    "        self.currency=curr \n",
    "    def get_rate(self)->int:\n",
    "        return(self.rate)\n",
    "    def set_rate(self,rate)->int:\n",
    "        self.rate=rate \n",
    "    \n",
    "    def convert(self,amount):\n",
    "        return(self.currency+'conversion is '+str(self.rate*amount))\n",
    "    \n",
    "cr = currency('usd',70)\n",
    "cr.convert(100)\n",
    "cr.set_currency('aud') \n",
    "cr.set_rate(50)\n",
    "cr.convert(100)\n"
   ]
  },
  {
   "cell_type": "code",
   "execution_count": 104,
   "metadata": {},
   "outputs": [
    {
     "name": "stdout",
     "output_type": "stream",
     "text": [
      "the balalnce is  2000\n",
      "the balalnce is  4000\n",
      "the details are ('c', 1003, 4000)\n",
      "3\n"
     ]
    }
   ],
   "source": [
    "## challenge Bank account\n",
    "\n",
    "class acc:\n",
    "    acc_num=1001 \n",
    "    def __init__(self,name,balance=1000):\n",
    "        self.name=name \n",
    "        self.balance=balance \n",
    "        self.acc_num = acc.acc_num \n",
    "        acc.acc_num += 1 \n",
    "    \n",
    "    def deposit(self,deposit):\n",
    "        self.balance = self.balance+deposit\n",
    "        return(self.balance)\n",
    "\n",
    "    def withdraw(self,wd):\n",
    "        self.balance = self.balance-wd\n",
    "        return(self.balance)\n",
    "    \n",
    "    def show_details(self):\n",
    "        return(self.name,self.acc_num,self.balance)\n",
    "        \n",
    "    @classmethod\n",
    "    def acc_number_count(cls):\n",
    "        return(cls.acc_num-1001)\n",
    "    \n",
    "ac1 = acc('a',1000) \n",
    "ac2 = acc('b',2000)\n",
    "ac3 = acc('c',5000)\n",
    "\n",
    "print(\"the balalnce is \",ac1.deposit(1000))\n",
    "print(\"the balalnce is \",ac3.withdraw(1000))\n",
    "print(\"the details are \"+ str(ac3.show_details()))\n",
    "print(acc.acc_number_count())\n"
   ]
  },
  {
   "cell_type": "code",
   "execution_count": 114,
   "metadata": {},
   "outputs": [
    {
     "data": {
      "text/plain": [
       "35"
      ]
     },
     "execution_count": 114,
     "metadata": {},
     "output_type": "execute_result"
    }
   ],
   "source": [
    "# challenge inheritance \n",
    "\n",
    "class poly:\n",
    "    def __init__(self,ns,*sides):\n",
    "        self.ns=ns \n",
    "        self.sides=sides\n",
    "    \n",
    "class tri(poly):\n",
    "    def __init__(self,ns,*sides):\n",
    "        super().__init__(ns,*sides)\n",
    "    \n",
    "    def peri(self):\n",
    "        a,b,c=self.sides\n",
    "        p=a+b+c \n",
    "        return(p) \n",
    "     \n",
    "t1=tri(3,10,15,10)\n",
    "t1.peri()        "
   ]
  },
  {
   "cell_type": "code",
   "execution_count": 123,
   "metadata": {},
   "outputs": [
    {
     "data": {
      "text/plain": [
       "('AI', '40 hrs', 'Machine learning')"
      ]
     },
     "execution_count": 123,
     "metadata": {},
     "output_type": "execute_result"
    }
   ],
   "source": [
    "#challenge Academic courses \n",
    "\n",
    "class Course:\n",
    "    def __init__(self,course,cd,titles):\n",
    "        self.course=course\n",
    "        self.course_duration = cd \n",
    "        self.book = Book(titles)\n",
    "    \n",
    "    def show_details(self):\n",
    "        return(self.course,self.course_duration,str(self.book))\n",
    "\n",
    "class Book:\n",
    "    def __init__(self,title):\n",
    "        self.title = title\n",
    "    \n",
    "    def __str__(self):\n",
    "        return(self.title)\n",
    "\n",
    "cr = Course('AI','40 hrs','Machine learning')\n",
    "cr.show_details()\n",
    "\n"
   ]
  },
  {
   "cell_type": "code",
   "execution_count": 127,
   "metadata": {},
   "outputs": [
    {
     "name": "stdout",
     "output_type": "stream",
     "text": [
      "AI 40 hrs\n",
      "Machine learning\n",
      "python\n"
     ]
    }
   ],
   "source": [
    "class Course:\n",
    "    def __init__(self,course,cd,*books):\n",
    "        self.course=course\n",
    "        self.course_duration = cd \n",
    "        self.book = [self.Book(b) for b in books]\n",
    "    \n",
    "    def show_details(self):\n",
    "        print(self.course,self.course_duration)\n",
    "        for b in self.book:\n",
    "            print(b)\n",
    "\n",
    "    class Book:\n",
    "        def __init__(self,title):\n",
    "            self.title = title\n",
    "        \n",
    "        def __str__(self):\n",
    "            return(self.title)\n",
    "\n",
    "cr = Course('AI','40 hrs','Machine learning','python')\n",
    "cr.show_details()"
   ]
  },
  {
   "cell_type": "code",
   "execution_count": null,
   "metadata": {},
   "outputs": [
    {
     "name": "stdout",
     "output_type": "stream",
     "text": [
      "Namepc1\n",
      "Makeintel\\oswindows\n"
     ]
    }
   ],
   "source": [
    "#computer details \n",
    "\n",
    "class computer:\n",
    "    def __init__(self,name,make,os):\n",
    "        self.name = name \n",
    "        self.make = self.cpu(make)\n",
    "        self.os= self.os(os)\n",
    "    \n",
    "    def __str__(self):\n",
    "        return('Name'+ self.name + '\\nMake' + self.make.get_make() + '\\os' + self.os.get_os())\n",
    "    \n",
    "    class cpu:\n",
    "        def __init__(self,make):\n",
    "            self.make = make \n",
    "        \n",
    "        def get_make(self):\n",
    "            return self.make \n",
    "    \n",
    "    class os:\n",
    "        def __init__(self,os):\n",
    "            self.os = os\n",
    "        \n",
    "        def get_os(self):\n",
    "            return self.os\n",
    "\n",
    "c1 = computer('pc1','intel','windows')\n",
    "print(c1)"
   ]
  },
  {
   "cell_type": "code",
   "execution_count": 148,
   "metadata": {},
   "outputs": [
    {
     "name": "stdout",
     "output_type": "stream",
     "text": [
      "name pc1\n",
      "make amd\n",
      "os windows\n"
     ]
    }
   ],
   "source": [
    "class Computer:\n",
    "    def __init__(self,name,make,os):\n",
    "        self.name=name\n",
    "        self.cpu=self.Cpu(make)\n",
    "        self.os = self.Os(os)\n",
    "    \n",
    "    def __str__(self):\n",
    "        return('name ' + self.name + '\\nmake '+ self.cpu.get_make() + '\\nos ' +self.os.get_os())\n",
    "    \n",
    "    class Cpu:\n",
    "        def __init__(self,make):\n",
    "            self.make=make \n",
    "        def get_make(self):\n",
    "            return self.make \n",
    "    \n",
    "    class Os:\n",
    "        def __init__(self,os):\n",
    "            self.os =os \n",
    "        def get_os(self):\n",
    "            return(self.os)\n",
    "\n",
    "c1 = Computer('pc1','amd','windows')\n",
    "print(c1)"
   ]
  },
  {
   "cell_type": "code",
   "execution_count": null,
   "metadata": {},
   "outputs": [],
   "source": [
    "#challenge Pet details \n"
   ]
  },
  {
   "cell_type": "code",
   "execution_count": 151,
   "metadata": {},
   "outputs": [
    {
     "name": "stdout",
     "output_type": "stream",
     "text": [
      "hello\n",
      "hola\n"
     ]
    }
   ],
   "source": [
    "# challenge greetings in diff langs \n",
    "\n",
    "class english:\n",
    "    def greet(self):\n",
    "        print(\"hello\")\n",
    "\n",
    "class spain:\n",
    "    def greet(self):\n",
    "        print(\"hola\")\n",
    "\n",
    "def greetings(g):\n",
    "    g.greet()\n",
    "\n",
    "e = english()\n",
    "s = spain()\n",
    "\n",
    "greetings(e)\n",
    "greetings(s)"
   ]
  },
  {
   "cell_type": "code",
   "execution_count": 154,
   "metadata": {},
   "outputs": [
    {
     "name": "stdout",
     "output_type": "stream",
     "text": [
      "Degree 75\n"
     ]
    }
   ],
   "source": [
    "# measures of angles\n",
    "\n",
    "class angle:\n",
    "    def __init__(self,degree):\n",
    "        self.degree = degree \n",
    "    \n",
    "    def __add__(self,other):\n",
    "        sum= angle(self.degree+other.degree) \n",
    "        return sum \n",
    "    def __str__(self):\n",
    "        return 'Degree ' + str(self.degree) \n",
    "\n",
    "a1 = angle(30)\n",
    "a2 = angle(45) \n",
    "\n",
    "a3 = a1+a2 \n",
    "print(a3)"
   ]
  },
  {
   "cell_type": "code",
   "execution_count": null,
   "metadata": {},
   "outputs": [
    {
     "name": "stdout",
     "output_type": "stream",
     "text": [
      "Ploice robo is saying hi\n",
      "robo is saying hi\n"
     ]
    }
   ],
   "source": [
    "# challenge robo \n",
    "\n",
    "class robo:\n",
    "    def __init__(self,name):\n",
    "        self.name =name \n",
    "    def say_hi(self):\n",
    "        print(\"robo is saying hi\")\n",
    "\n",
    "class probo(robo):\n",
    "    def __init__(self, name):\n",
    "        super().__init__(name)\n",
    "        self.name=name \n",
    "    def say_hi(self):\n",
    "        print(\"Police robo is saying hi\")\n",
    "\n",
    "r = robo('roboda') \n",
    "pr = probo('probo da')\n",
    "\n",
    "pr.say_hi()\n",
    "r.say_hi()"
   ]
  },
  {
   "cell_type": "code",
   "execution_count": null,
   "metadata": {},
   "outputs": [],
   "source": []
  },
  {
   "cell_type": "code",
   "execution_count": null,
   "metadata": {},
   "outputs": [],
   "source": []
  },
  {
   "cell_type": "code",
   "execution_count": null,
   "metadata": {},
   "outputs": [],
   "source": []
  },
  {
   "cell_type": "code",
   "execution_count": null,
   "metadata": {},
   "outputs": [],
   "source": []
  },
  {
   "cell_type": "code",
   "execution_count": null,
   "metadata": {},
   "outputs": [],
   "source": []
  },
  {
   "cell_type": "code",
   "execution_count": null,
   "metadata": {},
   "outputs": [],
   "source": []
  }
 ],
 "metadata": {
  "kernelspec": {
   "display_name": ".venv",
   "language": "python",
   "name": "python3"
  },
  "language_info": {
   "codemirror_mode": {
    "name": "ipython",
    "version": 3
   },
   "file_extension": ".py",
   "mimetype": "text/x-python",
   "name": "python",
   "nbconvert_exporter": "python",
   "pygments_lexer": "ipython3",
   "version": "3.10.11"
  }
 },
 "nbformat": 4,
 "nbformat_minor": 2
}
