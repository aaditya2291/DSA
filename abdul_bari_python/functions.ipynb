{
 "cells": [
  {
   "cell_type": "markdown",
   "metadata": {},
   "source": [
    "### variable length arguments"
   ]
  },
  {
   "cell_type": "code",
   "execution_count": null,
   "metadata": {},
   "outputs": [],
   "source": [
    "#  the function should work when its passed \n",
    "# variable length of arguments as they are passed to *args in the form of tuple\n"
   ]
  },
  {
   "cell_type": "code",
   "execution_count": 1,
   "metadata": {},
   "outputs": [
    {
     "name": "stdout",
     "output_type": "stream",
     "text": [
      "<class 'tuple'> ()\n",
      "<class 'tuple'> (1, 2, 3, 4)\n",
      "<class 'tuple'> (1.5, 2.4, 3.6)\n",
      "<class 'tuple'> ('hello', 'why', 1, 3.6)\n"
     ]
    }
   ],
   "source": [
    "def func1(*args):\n",
    "    print(type(args),args)\n",
    "\n",
    "func1()\n",
    "func1(1,2,3,4)\n",
    "func1(1.5,2.4,3.6)\n",
    "func1('hello','why',1,3.6)"
   ]
  },
  {
   "cell_type": "code",
   "execution_count": 3,
   "metadata": {},
   "outputs": [
    {
     "name": "stdout",
     "output_type": "stream",
     "text": [
      "3.6 ()\n",
      "5 (2, 3, 4)\n",
      "hello ('yoyo', 1, 2, 3, 4)\n"
     ]
    }
   ],
   "source": [
    "#positional along with *args\n",
    "\n",
    "def func(a,*args):\n",
    "    print(a,args)\n",
    "\n",
    "func(3.6)\n",
    "func(5,2,3,4)\n",
    "func('hello','yoyo',1,2,3,4)"
   ]
  },
  {
   "cell_type": "code",
   "execution_count": 9,
   "metadata": {},
   "outputs": [
    {
     "name": "stdout",
     "output_type": "stream",
     "text": [
      "1 2 3\n"
     ]
    }
   ],
   "source": [
    "#unpacking of arguments\n",
    "def func3(a,b,c):\n",
    "    print(a,b,c)\n",
    "l1=[1,2,3]\n",
    "# func3(l1) will throw error\n",
    "func3(*l1) #this will work for all data types which list ,tuple,tring or set  as its unpacking of iterables by putting * in front of teh data type\n",
    "\n",
    "\n"
   ]
  },
  {
   "cell_type": "code",
   "execution_count": 10,
   "metadata": {},
   "outputs": [
    {
     "name": "stdout",
     "output_type": "stream",
     "text": [
      "5 6 7\n"
     ]
    }
   ],
   "source": [
    "#multiple return values \n",
    "# you can unpack it keeping the number of arguments same or into single variable as it will be forming it into tuple\n",
    "def f1(a,b,c):\n",
    "    return(a,b,c)\n",
    "\n",
    "a,b,c=f1(5,6,7)\n",
    "print(a,b,c)"
   ]
  },
  {
   "cell_type": "code",
   "execution_count": 11,
   "metadata": {},
   "outputs": [
    {
     "name": "stdout",
     "output_type": "stream",
     "text": [
      "<class 'tuple'> (5, 6, 7)\n"
     ]
    }
   ],
   "source": [
    "f = f1(5,6,7)\n",
    "print(type(f),f)"
   ]
  },
  {
   "cell_type": "code",
   "execution_count": 12,
   "metadata": {},
   "outputs": [
    {
     "ename": "ValueError",
     "evalue": "too many values to unpack (expected 2)",
     "output_type": "error",
     "traceback": [
      "\u001b[1;31m---------------------------------------------------------------------------\u001b[0m",
      "\u001b[1;31mValueError\u001b[0m                                Traceback (most recent call last)",
      "Cell \u001b[1;32mIn[12], line 1\u001b[0m\n\u001b[1;32m----> 1\u001b[0m a,b \u001b[38;5;241m=\u001b[39m f1(\u001b[38;5;241m5\u001b[39m,\u001b[38;5;241m6\u001b[39m,\u001b[38;5;241m7\u001b[39m)\n\u001b[0;32m      2\u001b[0m \u001b[38;5;28mprint\u001b[39m(a,b)\n",
      "\u001b[1;31mValueError\u001b[0m: too many values to unpack (expected 2)"
     ]
    }
   ],
   "source": [
    "a,b = f1(5,6,7)\n",
    "print(a,b)"
   ]
  },
  {
   "cell_type": "markdown",
   "metadata": {},
   "source": [
    "### Variale keyword arguments \n",
    "##### **kwargs"
   ]
  },
  {
   "cell_type": "code",
   "execution_count": 15,
   "metadata": {},
   "outputs": [
    {
     "name": "stdout",
     "output_type": "stream",
     "text": [
      "{'a': 'aditya', 'b': 123}\n",
      "<class 'dict'>\n",
      "a aditya\n",
      "b 123\n"
     ]
    }
   ],
   "source": [
    "def fun(**kwargs):\n",
    "    print(kwargs)\n",
    "    print(type(kwargs))\n",
    "    for i,j in kwargs.items():\n",
    "        print(i,j)\n",
    "\n",
    "\n",
    "\n",
    "\n",
    "fun(a='aditya',b=123)"
   ]
  },
  {
   "cell_type": "code",
   "execution_count": 2,
   "metadata": {},
   "outputs": [
    {
     "name": "stdout",
     "output_type": "stream",
     "text": [
      "5 6 (10, 20, 30) {'d': 100, 'e': 3.6}\n"
     ]
    }
   ],
   "source": [
    "### mixed arguments\n",
    "def fun23(a,b,*args,**kwargs):\n",
    "    print(a,b,args,kwargs)\n",
    "\n",
    "fun23(5,6,10,20,30,d=100,e=3.6)"
   ]
  },
  {
   "cell_type": "code",
   "execution_count": null,
   "metadata": {},
   "outputs": [],
   "source": [
    "#variable length arguments"
   ]
  },
  {
   "cell_type": "code",
   "execution_count": 1,
   "metadata": {},
   "outputs": [
    {
     "name": "stdout",
     "output_type": "stream",
     "text": [
      "<class 'tuple'> (10, 20, 30)\n"
     ]
    }
   ],
   "source": [
    "def dun1(*args):\n",
    "    print(type(args),args)\n",
    "\n",
    "dun1(10,20,30)\n"
   ]
  },
  {
   "cell_type": "code",
   "execution_count": 4,
   "metadata": {},
   "outputs": [
    {
     "name": "stdout",
     "output_type": "stream",
     "text": [
      "(30, 40, 50) 10 20\n",
      "() 10 20\n"
     ]
    },
    {
     "ename": "TypeError",
     "evalue": "dun1() missing 2 required positional arguments: 'a' and 'b'",
     "output_type": "error",
     "traceback": [
      "\u001b[1;31m---------------------------------------------------------------------------\u001b[0m",
      "\u001b[1;31mTypeError\u001b[0m                                 Traceback (most recent call last)",
      "Cell \u001b[1;32mIn[4], line 7\u001b[0m\n\u001b[0;32m      5\u001b[0m dun1(\u001b[38;5;241m10\u001b[39m,\u001b[38;5;241m20\u001b[39m,\u001b[38;5;241m30\u001b[39m,\u001b[38;5;241m40\u001b[39m,\u001b[38;5;241m50\u001b[39m)\n\u001b[0;32m      6\u001b[0m dun1(\u001b[38;5;241m10\u001b[39m,\u001b[38;5;241m20\u001b[39m)\n\u001b[1;32m----> 7\u001b[0m \u001b[43mdun1\u001b[49m\u001b[43m(\u001b[49m\u001b[43m)\u001b[49m\n",
      "\u001b[1;31mTypeError\u001b[0m: dun1() missing 2 required positional arguments: 'a' and 'b'"
     ]
    }
   ],
   "source": [
    "def dun1(a,b,*args):\n",
    "    \n",
    "    print(args,a,b)\n",
    "\n",
    "dun1(10,20,30,40,50)\n",
    "dun1(10,20)\n",
    "dun1()"
   ]
  },
  {
   "cell_type": "code",
   "execution_count": 5,
   "metadata": {},
   "outputs": [
    {
     "name": "stdout",
     "output_type": "stream",
     "text": [
      "(10, 20, 30) 11 22\n"
     ]
    }
   ],
   "source": [
    "def dun1(*args,a,b):\n",
    "    print(args,a,b)\n",
    "\n",
    "dun1(10,20,30,a=11,b=22)"
   ]
  },
  {
   "cell_type": "code",
   "execution_count": 6,
   "metadata": {},
   "outputs": [
    {
     "name": "stdout",
     "output_type": "stream",
     "text": [
      "1 2 3\n"
     ]
    }
   ],
   "source": [
    "def fun1(a,b,c):\n",
    "    print(a,b,c)\n",
    "\n",
    "l1=[1,2,3]\n",
    "\n",
    "fun1(*l1)"
   ]
  },
  {
   "cell_type": "code",
   "execution_count": 8,
   "metadata": {},
   "outputs": [
    {
     "name": "stdout",
     "output_type": "stream",
     "text": [
      "10 20 30\n",
      "(10, 20, 30) <class 'tuple'>\n"
     ]
    }
   ],
   "source": [
    "#multiple return values\n",
    "def dun1(*args):\n",
    "    return(args)\n",
    "\n",
    "a,b,c=dun1(10,20,30)\n",
    "print(a,b,c) \n",
    "\n",
    "t = dun1(10,20,30)\n",
    "print(t,type(t))"
   ]
  },
  {
   "cell_type": "code",
   "execution_count": 9,
   "metadata": {},
   "outputs": [
    {
     "name": "stdout",
     "output_type": "stream",
     "text": [
      "{'a': 'ajay', 'age': 23, 'id': 101}\n"
     ]
    }
   ],
   "source": [
    "#keyword args\n",
    "\n",
    "def fun3(**kwargs):\n",
    "    print(kwargs)\n",
    "\n",
    "fun3(a='ajay',age=23,id=101)"
   ]
  },
  {
   "cell_type": "code",
   "execution_count": 10,
   "metadata": {},
   "outputs": [
    {
     "name": "stdout",
     "output_type": "stream",
     "text": [
      "10 12 (30, 40, 50) 11 22 {'e': 33, 'f': 44, 'g': 55}\n"
     ]
    }
   ],
   "source": [
    "def fun4(a,b,*args,c,d,**kwargs):\n",
    "     print(a,b,args,c,d,kwargs)\n",
    "\n",
    "fun4(10,12,30,40,50,c=11,d=22,e=33,f=44,g=55)"
   ]
  },
  {
   "cell_type": "code",
   "execution_count": 13,
   "metadata": {},
   "outputs": [
    {
     "name": "stdout",
     "output_type": "stream",
     "text": [
      "sun\n",
      "mon\n",
      "tue\n",
      "sun\n",
      "mon\n",
      "tue\n"
     ]
    }
   ],
   "source": [
    "def days():\n",
    "    l = ['sun','mon','tue']\n",
    "    i=0\n",
    "    while True:\n",
    "        x=l[i]\n",
    "        i=(i+1)%3 \n",
    "        yield(x)\n",
    "\n",
    "d = days()\n",
    "print(next(d))\n",
    "print(next(d))\n",
    "print(next(d))\n",
    "print(next(d))\n",
    "print(next(d))\n",
    "print(next(d))"
   ]
  },
  {
   "cell_type": "code",
   "execution_count": null,
   "metadata": {},
   "outputs": [],
   "source": [
    "#modules \n"
   ]
  },
  {
   "cell_type": "code",
   "execution_count": 14,
   "metadata": {},
   "outputs": [
    {
     "name": "stdout",
     "output_type": "stream",
     "text": [
      "My name is harry, I am a doctor \n"
     ]
    }
   ],
   "source": [
    "def message(a,b):\n",
    "    print(f'My name is {a}, I am a {b} ')\n",
    "\n",
    "message('harry','doctor')"
   ]
  },
  {
   "cell_type": "code",
   "execution_count": 15,
   "metadata": {},
   "outputs": [
    {
     "data": {
      "text/plain": [
       "'venus'"
      ]
     },
     "execution_count": 15,
     "metadata": {},
     "output_type": "execute_result"
    }
   ],
   "source": [
    "def planets(id):\n",
    "    planet = {1:'mercury',2:'venus',3:'earth',4:'mars'}\n",
    "    return(planet[id])\n",
    "planets(2)"
   ]
  },
  {
   "cell_type": "code",
   "execution_count": 16,
   "metadata": {},
   "outputs": [
    {
     "data": {
      "text/plain": [
       "400"
      ]
     },
     "execution_count": 16,
     "metadata": {},
     "output_type": "execute_result"
    }
   ],
   "source": [
    "def sum0(l):\n",
    "    sum=0\n",
    "    for i in range(len(l)):\n",
    "        if l[i]%10==0:\n",
    "            sum=sum+l[i]\n",
    "    return(sum)\n",
    "l=[100,201,300]\n",
    "sum0(l)"
   ]
  },
  {
   "cell_type": "code",
   "execution_count": 20,
   "metadata": {},
   "outputs": [
    {
     "name": "stdout",
     "output_type": "stream",
     "text": [
      "<built-in function len>\n"
     ]
    },
    {
     "data": {
      "text/plain": [
       "{10: 'a', 20: 'b', 30: 'c'}"
      ]
     },
     "execution_count": 20,
     "metadata": {},
     "output_type": "execute_result"
    }
   ],
   "source": [
    "def invert(d):\n",
    "    nd = {}\n",
    "    for k,v in d.items():\n",
    "        nd[v]=k\n",
    "    return(nd)\n",
    "d = {'a':10,'b':20,'c':30}\n",
    "print(len)\n",
    "invert(d)"
   ]
  },
  {
   "cell_type": "code",
   "execution_count": 23,
   "metadata": {},
   "outputs": [
    {
     "name": "stdout",
     "output_type": "stream",
     "text": [
      "3 7\n"
     ]
    }
   ],
   "source": [
    "def count(phrase):\n",
    "    uc = 0\n",
    "    lc = 0\n",
    "    for i in phrase:\n",
    "        if i.isupper():\n",
    "            uc+=1\n",
    "        else:\n",
    "            lc+=1\n",
    "    return(uc,lc)\n",
    "\n",
    "uc,lc = count(\"AdiTYaaaaa\")\n",
    "print(uc,lc)"
   ]
  },
  {
   "cell_type": "code",
   "execution_count": null,
   "metadata": {},
   "outputs": [
    {
     "data": {
      "text/plain": [
       "3"
      ]
     },
     "execution_count": 26,
     "metadata": {},
     "output_type": "execute_result"
    }
   ],
   "source": [
    "def minimum(*args,low = None):\n",
    "    \n",
    "    '''finding out minimum value out of given values'''\n",
    "    lis=[]\n",
    "    if low is None:\n",
    "        return min(args)\n",
    "    else:\n",
    "        lis = [x for x in args if x>=low]\n",
    "        return(min(lis))\n",
    "minimum(-5,4,3,-2,low=1)"
   ]
  },
  {
   "cell_type": "code",
   "execution_count": 34,
   "metadata": {},
   "outputs": [
    {
     "name": "stdout",
     "output_type": "stream",
     "text": [
      "1\n",
      "2\n",
      "3\n",
      "4\n",
      "5\n",
      "1\n",
      "2\n",
      "3\n",
      "6\n"
     ]
    }
   ],
   "source": [
    "#flattening list\n",
    "list1 = [1,2,3,4,5,[1,2,3],[6,7,8,9],10,11,12]\n",
    "\n",
    "def flatten(l)->list:\n",
    "    '''flattening list'''\n",
    "    for i in l:\n",
    "        if hasattr(i,'__iter__'):\n",
    "            for j in i:\n",
    "                yield j \n",
    "        else:\n",
    "            yield i\n",
    "f = flatten(list1)\n",
    "print(next(f))\n",
    "print(next(f))\n",
    "print(next(f))\n",
    "print(next(f))\n",
    "print(next(f))\n",
    "print(next(f))\n",
    "print(next(f))\n",
    "print(next(f))\n",
    "print(next(f))\n",
    "\n"
   ]
  },
  {
   "cell_type": "code",
   "execution_count": 35,
   "metadata": {},
   "outputs": [
    {
     "name": "stdout",
     "output_type": "stream",
     "text": [
      "this is outer function\n",
      "this is inner function\n"
     ]
    }
   ],
   "source": [
    "#nested functions\n",
    "\n",
    "def outer():\n",
    "    print(\"this is outer function\")\n",
    "    def inner():\n",
    "        print(\"this is inner function\")\n",
    "    inner()\n",
    "\n",
    "outer()\n",
    "\n"
   ]
  },
  {
   "cell_type": "code",
   "execution_count": 37,
   "metadata": {},
   "outputs": [
    {
     "name": "stdout",
     "output_type": "stream",
     "text": [
      "hello\n",
      "119\n"
     ]
    }
   ],
   "source": [
    "#returning functions \n",
    "def display():\n",
    "    print('hello')\n",
    "\n",
    "def fun(d):\n",
    "    d()\n",
    "\n",
    "fun(display)\n",
    "\n",
    "def add(x,y):\n",
    "    print(x+y)\n",
    "\n",
    "def fun2(f,x,y):\n",
    "    f(x,y)\n",
    "\n",
    "fun2(add,20,99)"
   ]
  },
  {
   "cell_type": "code",
   "execution_count": 43,
   "metadata": {},
   "outputs": [
    {
     "name": "stdout",
     "output_type": "stream",
     "text": [
      "<function outer.<locals>.display at 0x0000018FFC369480>\n",
      "hello\n"
     ]
    }
   ],
   "source": [
    "def outer():\n",
    "    def display():\n",
    "        print('hello')\n",
    "    return(display)\n",
    "\n",
    "print(outer())\n",
    "d=outer()\n",
    "d()\n"
   ]
  },
  {
   "cell_type": "code",
   "execution_count": null,
   "metadata": {},
   "outputs": [],
   "source": []
  },
  {
   "cell_type": "code",
   "execution_count": null,
   "metadata": {},
   "outputs": [],
   "source": []
  },
  {
   "cell_type": "code",
   "execution_count": null,
   "metadata": {},
   "outputs": [],
   "source": []
  },
  {
   "cell_type": "code",
   "execution_count": null,
   "metadata": {},
   "outputs": [],
   "source": []
  },
  {
   "cell_type": "code",
   "execution_count": null,
   "metadata": {},
   "outputs": [],
   "source": []
  }
 ],
 "metadata": {
  "kernelspec": {
   "display_name": ".venv",
   "language": "python",
   "name": "python3"
  },
  "language_info": {
   "codemirror_mode": {
    "name": "ipython",
    "version": 3
   },
   "file_extension": ".py",
   "mimetype": "text/x-python",
   "name": "python",
   "nbconvert_exporter": "python",
   "pygments_lexer": "ipython3",
   "version": "3.10.11"
  }
 },
 "nbformat": 4,
 "nbformat_minor": 2
}
