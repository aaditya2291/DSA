{
 "cells": [
  {
   "cell_type": "code",
   "execution_count": 8,
   "metadata": {},
   "outputs": [
    {
     "data": {
      "text/plain": [
       "{'0 key': 0,\n",
       " '1 key': 1,\n",
       " '2 key': 4,\n",
       " '3 key': 9,\n",
       " '4 key': 16,\n",
       " '5 key': 25,\n",
       " '6 key': 36,\n",
       " '7 key': 49,\n",
       " '8 key': 64,\n",
       " '9 key': 81}"
      ]
     },
     "execution_count": 8,
     "metadata": {},
     "output_type": "execute_result"
    }
   ],
   "source": [
    "dict={}\n",
    "for i in range(10):\n",
    "    dict[str(i)+' key']=i*i\n",
    "dict"
   ]
  },
  {
   "cell_type": "code",
   "execution_count": 10,
   "metadata": {},
   "outputs": [
    {
     "name": "stdout",
     "output_type": "stream",
     "text": [
      "0 key 0\n",
      "1 key 1\n",
      "2 key 4\n",
      "3 key 9\n",
      "4 key 16\n",
      "5 key 25\n",
      "6 key 36\n",
      "7 key 49\n",
      "8 key 64\n",
      "9 key 81\n"
     ]
    }
   ],
   "source": [
    "for i in dict:\n",
    "    print(i,dict[i])"
   ]
  },
  {
   "cell_type": "code",
   "execution_count": 30,
   "metadata": {},
   "outputs": [],
   "source": [
    "#looping\n",
    "dict1 = {101:'Accounts',102:'production',103:'sales',104:'inventory'}"
   ]
  },
  {
   "cell_type": "code",
   "execution_count": 31,
   "metadata": {},
   "outputs": [
    {
     "name": "stdout",
     "output_type": "stream",
     "text": [
      "101 Accounts\n",
      "102 production\n",
      "103 sales\n",
      "104 inventory\n",
      "\n",
      "\n",
      "Accounts\n",
      "production\n",
      "sales\n",
      "inventory\n",
      "\n",
      "\n",
      "101 Accounts\n",
      "102 production\n",
      "103 sales\n",
      "104 inventory\n",
      "\n",
      "\n",
      "subscript\n",
      "101 Accounts\n",
      "102 production\n",
      "103 sales\n",
      "104 inventory\n",
      "\n",
      "\n",
      "get\n",
      "101 Accounts\n",
      "102 production\n",
      "103 sales\n",
      "104 inventory\n",
      "105 invalid\n",
      "106 invalid\n",
      "\n",
      "\n"
     ]
    }
   ],
   "source": [
    "#keys()\n",
    "for k in dict1.keys():\n",
    "    print(k,dict1[k])\n",
    "print('\\n')\n",
    "\n",
    "#values\n",
    "for i in dict1.values():\n",
    "    print(i)\n",
    "print('\\n')\n",
    "\n",
    "\n",
    "#items\n",
    "for x,y in dict1.items():\n",
    "    print(x,y)\n",
    "print('\\n')\n",
    "\n",
    "#subscript\n",
    "print('subscript')\n",
    "for i in dict1:\n",
    "    print(i, dict1[i])\n",
    "print('\\n')\n",
    "\n",
    "#get()\n",
    "print('get')\n",
    "for i in range(101,107):\n",
    "    print(i, dict1.get(i,'invalid'))\n",
    "print('\\n')"
   ]
  },
  {
   "cell_type": "code",
   "execution_count": 35,
   "metadata": {},
   "outputs": [
    {
     "data": {
      "text/plain": [
       "{101: 'Accounts', 102: 'production', 103: 'sales', 104: 'inventory'}"
      ]
     },
     "execution_count": 35,
     "metadata": {},
     "output_type": "execute_result"
    }
   ],
   "source": [
    "#dictionary methods\n",
    "# copy()\n",
    "#update(iterable)\n",
    "#setdefault(key,default)\n",
    "#fromkeys(sequence,value)\n",
    "#pop(key,value)\n",
    "#popitem()\n",
    "#clear()\n",
    "\n",
    "d2 = dict1.copy()\n",
    "d2[102]='design'\n",
    "dict1\n",
    " "
   ]
  },
  {
   "cell_type": "code",
   "execution_count": 36,
   "metadata": {},
   "outputs": [
    {
     "data": {
      "text/plain": [
       "{101: 'Accounts', 102: 'design', 103: 'sales', 104: 'inventory'}"
      ]
     },
     "execution_count": 36,
     "metadata": {},
     "output_type": "execute_result"
    }
   ],
   "source": [
    "d2"
   ]
  },
  {
   "cell_type": "code",
   "execution_count": 38,
   "metadata": {},
   "outputs": [
    {
     "data": {
      "text/plain": [
       "2603149651312"
      ]
     },
     "execution_count": 38,
     "metadata": {},
     "output_type": "execute_result"
    }
   ],
   "source": [
    "id(d2[101])"
   ]
  },
  {
   "cell_type": "code",
   "execution_count": 40,
   "metadata": {},
   "outputs": [
    {
     "data": {
      "text/plain": [
       "2603149651312"
      ]
     },
     "execution_count": 40,
     "metadata": {},
     "output_type": "execute_result"
    }
   ],
   "source": [
    "id(dict1[101])"
   ]
  },
  {
   "cell_type": "code",
   "execution_count": 42,
   "metadata": {},
   "outputs": [
    {
     "data": {
      "text/plain": [
       "{101: 'Accounts',\n",
       " 102: 'production',\n",
       " 103: 'sales',\n",
       " 104: 'inventory',\n",
       " 105: 'design',\n",
       " 106: 'marketing'}"
      ]
     },
     "execution_count": 42,
     "metadata": {},
     "output_type": "execute_result"
    }
   ],
   "source": [
    "dict3 = {105:'design',106:'marketing'}\n",
    "dict1.update(dict3)\n",
    "dict1"
   ]
  },
  {
   "cell_type": "code",
   "execution_count": 43,
   "metadata": {},
   "outputs": [
    {
     "data": {
      "text/plain": [
       "{101: 'Accounts',\n",
       " 102: 'production',\n",
       " 103: 'sales',\n",
       " 104: 'inventory',\n",
       " 105: 'design',\n",
       " 106: 'marketing',\n",
       " 110: 'Advertisement'}"
      ]
     },
     "execution_count": 43,
     "metadata": {},
     "output_type": "execute_result"
    }
   ],
   "source": [
    "dict1.setdefault(110,'Advertisement')\n",
    "dict1"
   ]
  },
  {
   "cell_type": "code",
   "execution_count": 44,
   "metadata": {},
   "outputs": [
    {
     "data": {
      "text/plain": [
       "{101: 'Accounts',\n",
       " 102: 'production',\n",
       " 103: 'sales',\n",
       " 104: 'inventory',\n",
       " 105: 'design',\n",
       " 106: 'marketing',\n",
       " 110: 'Advertisement'}"
      ]
     },
     "execution_count": 44,
     "metadata": {},
     "output_type": "execute_result"
    }
   ],
   "source": [
    "dict1.get(111,'cxo')\n",
    "dict1"
   ]
  },
  {
   "cell_type": "code",
   "execution_count": 45,
   "metadata": {},
   "outputs": [
    {
     "data": {
      "text/plain": [
       "'Accounts'"
      ]
     },
     "execution_count": 45,
     "metadata": {},
     "output_type": "execute_result"
    }
   ],
   "source": [
    "d2.pop(101)"
   ]
  },
  {
   "cell_type": "code",
   "execution_count": 48,
   "metadata": {},
   "outputs": [
    {
     "data": {
      "text/plain": [
       "{102: 'design', 103: 'sales', 104: 'inventory'}"
      ]
     },
     "execution_count": 48,
     "metadata": {},
     "output_type": "execute_result"
    }
   ],
   "source": [
    "d2.pop(110,'None')\n",
    "d2"
   ]
  },
  {
   "cell_type": "code",
   "execution_count": 50,
   "metadata": {},
   "outputs": [
    {
     "data": {
      "text/plain": [
       "{102: 'design'}"
      ]
     },
     "execution_count": 50,
     "metadata": {},
     "output_type": "execute_result"
    }
   ],
   "source": [
    "d2.popitem()\n",
    "d2"
   ]
  },
  {
   "cell_type": "code",
   "execution_count": 51,
   "metadata": {},
   "outputs": [
    {
     "data": {
      "text/plain": [
       "{102: 'design'}"
      ]
     },
     "execution_count": 51,
     "metadata": {},
     "output_type": "execute_result"
    }
   ],
   "source": [
    "d2"
   ]
  },
  {
   "cell_type": "code",
   "execution_count": 52,
   "metadata": {},
   "outputs": [
    {
     "data": {
      "text/plain": [
       "{}"
      ]
     },
     "execution_count": 52,
     "metadata": {},
     "output_type": "execute_result"
    }
   ],
   "source": [
    "dict3.clear()\n",
    "dict3"
   ]
  },
  {
   "cell_type": "code",
   "execution_count": 53,
   "metadata": {},
   "outputs": [],
   "source": [
    "del d2"
   ]
  },
  {
   "cell_type": "code",
   "execution_count": 54,
   "metadata": {},
   "outputs": [
    {
     "ename": "NameError",
     "evalue": "name 'd2' is not defined",
     "output_type": "error",
     "traceback": [
      "\u001b[1;31m---------------------------------------------------------------------------\u001b[0m",
      "\u001b[1;31mNameError\u001b[0m                                 Traceback (most recent call last)",
      "Cell \u001b[1;32mIn[54], line 1\u001b[0m\n\u001b[1;32m----> 1\u001b[0m \u001b[43md2\u001b[49m\n",
      "\u001b[1;31mNameError\u001b[0m: name 'd2' is not defined"
     ]
    }
   ],
   "source": [
    "d2"
   ]
  },
  {
   "cell_type": "code",
   "execution_count": 55,
   "metadata": {},
   "outputs": [
    {
     "data": {
      "text/plain": [
       "7"
      ]
     },
     "execution_count": 55,
     "metadata": {},
     "output_type": "execute_result"
    }
   ],
   "source": [
    "len(dict1)"
   ]
  },
  {
   "cell_type": "code",
   "execution_count": 56,
   "metadata": {},
   "outputs": [
    {
     "data": {
      "text/plain": [
       "{101: 'Accounts',\n",
       " 102: 'production',\n",
       " 103: 'sales',\n",
       " 104: 'inventory',\n",
       " 105: 'design',\n",
       " 106: 'marketing',\n",
       " 110: 'Advertisement'}"
      ]
     },
     "execution_count": 56,
     "metadata": {},
     "output_type": "execute_result"
    }
   ],
   "source": [
    "dict1"
   ]
  },
  {
   "cell_type": "code",
   "execution_count": 60,
   "metadata": {},
   "outputs": [
    {
     "name": "stdout",
     "output_type": "stream",
     "text": [
      "name is not found\n"
     ]
    }
   ],
   "source": [
    "bday = {'sachin':'22/11','dravid':'22/12','ganguly':'22/01','kapil':'22/02'}\n",
    "\n",
    "def name(n):\n",
    "    if n in bday.keys():\n",
    "        return(bday.get(n,'name is not found'))\n",
    "    else:\n",
    "        return('name is not found')\n",
    "\n",
    "print(name('dhoni'))"
   ]
  },
  {
   "cell_type": "code",
   "execution_count": 61,
   "metadata": {},
   "outputs": [
    {
     "data": {
      "text/plain": [
       "{1: 'aaaaaa',\n",
       " 2: 'njnvnvuvneuvnero',\n",
       " 3: 'njsnvuifhvuievbvfvnfuvnufnv',\n",
       " 4: 'dnvuipfnvifvnifviufhvuifdhvdiuhjnfdjvnfuvhfvnfvnjdfnv'}"
      ]
     },
     "execution_count": 61,
     "metadata": {},
     "output_type": "execute_result"
    }
   ],
   "source": [
    "mng = {1:'aaaaaa',2:'njnvnvuvneuvnero',3:'njsnvuifhvuievbvfvnfuvnufnv',4:'dnvuipfnvifvnifviufhvuifdhvdiuhjnfdjvnfuvhfvnfvnjdfnv'}\n",
    "mng\n"
   ]
  },
  {
   "cell_type": "code",
   "execution_count": 68,
   "metadata": {},
   "outputs": [
    {
     "ename": "TypeError",
     "evalue": "'dict' object is not callable",
     "output_type": "error",
     "traceback": [
      "\u001b[1;31m---------------------------------------------------------------------------\u001b[0m",
      "\u001b[1;31mTypeError\u001b[0m                                 Traceback (most recent call last)",
      "Cell \u001b[1;32mIn[68], line 3\u001b[0m\n\u001b[0;32m      1\u001b[0m lenth\u001b[38;5;241m=\u001b[39m{}\n\u001b[0;32m      2\u001b[0m \u001b[38;5;28;01mfor\u001b[39;00m i \u001b[38;5;129;01min\u001b[39;00m mng\u001b[38;5;241m.\u001b[39mkeys():\n\u001b[1;32m----> 3\u001b[0m     lenth[i]\u001b[38;5;241m=\u001b[39m\u001b[38;5;28mlen\u001b[39m(\u001b[43mmng\u001b[49m\u001b[43m(\u001b[49m\u001b[43mi\u001b[49m\u001b[43m)\u001b[49m)\n\u001b[0;32m      4\u001b[0m \u001b[38;5;28mprint\u001b[39m(lenth)\n",
      "\u001b[1;31mTypeError\u001b[0m: 'dict' object is not callable"
     ]
    }
   ],
   "source": [
    "lenth={}\n",
    "for i in mng.keys():\n",
    "    lenth[i]=len(mng(i))\n",
    "print(lenth)\n"
   ]
  },
  {
   "cell_type": "code",
   "execution_count": 77,
   "metadata": {},
   "outputs": [
    {
     "name": "stdout",
     "output_type": "stream",
     "text": [
      "6\n",
      "16\n",
      "27\n",
      "53\n",
      "(4, 53) (1, 6)\n"
     ]
    }
   ],
   "source": [
    "nd={}\n",
    "for i,j in mng.items():\n",
    "    print(len(j))\n",
    "    nd[i]=len(j)\n",
    "print(max(nd.items()),min(nd.items()))\n"
   ]
  },
  {
   "cell_type": "code",
   "execution_count": 74,
   "metadata": {},
   "outputs": [
    {
     "name": "stdout",
     "output_type": "stream",
     "text": [
      "{1: 6, 2: 16, 3: 27, 4: 53}\n"
     ]
    }
   ],
   "source": [
    "print(nd)"
   ]
  },
  {
   "cell_type": "code",
   "execution_count": 92,
   "metadata": {},
   "outputs": [],
   "source": []
  },
  {
   "cell_type": "code",
   "execution_count": 96,
   "metadata": {},
   "outputs": [
    {
     "name": "stdout",
     "output_type": "stream",
     "text": [
      "{'C', 'A', 'B'}\n"
     ]
    },
    {
     "ename": "TypeError",
     "evalue": "'list' object is not callable",
     "output_type": "error",
     "traceback": [
      "\u001b[1;31m---------------------------------------------------------------------------\u001b[0m",
      "\u001b[1;31mTypeError\u001b[0m                                 Traceback (most recent call last)",
      "Cell \u001b[1;32mIn[96], line 6\u001b[0m\n\u001b[0;32m      4\u001b[0m     lit\u001b[38;5;241m.\u001b[39madd(i[\u001b[38;5;241m0\u001b[39m])\n\u001b[0;32m      5\u001b[0m \u001b[38;5;28mprint\u001b[39m(lit)\n\u001b[1;32m----> 6\u001b[0m ul\u001b[38;5;241m=\u001b[39m\u001b[38;5;28;43mlist\u001b[39;49m\u001b[43m(\u001b[49m\u001b[43mlit\u001b[49m\u001b[43m)\u001b[49m\n\u001b[0;32m      7\u001b[0m \u001b[38;5;28mprint\u001b[39m(ul)\n",
      "\u001b[1;31mTypeError\u001b[0m: 'list' object is not callable"
     ]
    }
   ],
   "source": []
  },
  {
   "cell_type": "code",
   "execution_count": 12,
   "metadata": {},
   "outputs": [
    {
     "name": "stdout",
     "output_type": "stream",
     "text": [
      "A Australia\n",
      "A AustriaAzerbaijan\n",
      "A Albania\n",
      "B Brazil\n",
      "B Bangladesh\n",
      "B Belgium\n",
      "B Bhutan\n",
      "C Canada\n",
      "C China\n",
      "C Chile\n",
      "C Colombia\n",
      "{'A': ['Australia', 'AustriaAzerbaijan', 'Albania'], 'B': ['Brazil', 'Bangladesh', 'Belgium', 'Bhutan'], 'C': ['Canada', 'China', 'Chile', 'Colombia']}\n"
     ]
    }
   ],
   "source": [
    "cntry = [\n",
    "\"Australia\",\n",
    "\"Austria\"\n",
    "\"Azerbaijan\",\n",
    "\"Albania\",\n",
    "\"Brazil\",\n",
    "\"Bangladesh\",\n",
    "\"Belgium\",\n",
    "\"Bhutan\",\n",
    "\"Canada\",\n",
    "\"China\",\n",
    "\"Chile\",\n",
    "\"Colombia\"]\n",
    "c= {}\n",
    "for name in cntry:\n",
    "    fl = name[0]\n",
    "    if fl not in c:\n",
    "        c[fl]=[]\n",
    "    print(fl,name)\n",
    "    c[fl].append(name)\n",
    "print(c)\n"
   ]
  },
  {
   "cell_type": "code",
   "execution_count": 16,
   "metadata": {},
   "outputs": [
    {
     "data": {
      "text/plain": [
       "{'adi': {'roll': 123, 'name': 'adi', 'dept': 'maths'},\n",
       " 'deep': {'roll': 345, 'name': 'deep', 'dept': 'physics'}}"
      ]
     },
     "execution_count": 16,
     "metadata": {},
     "output_type": "execute_result"
    }
   ],
   "source": [
    "students= {}\n",
    "for i in range(2):\n",
    "    name=input(\"enter name\")\n",
    "    roll = int(input(\"enter roll\"))\n",
    "    dept = input(\"enter dept\")\n",
    "\n",
    "    students[name]={'roll':roll,'name':name,'dept':dept}\n",
    "students\n",
    "\n"
   ]
  },
  {
   "cell_type": "code",
   "execution_count": null,
   "metadata": {},
   "outputs": [],
   "source": []
  },
  {
   "cell_type": "code",
   "execution_count": null,
   "metadata": {},
   "outputs": [],
   "source": []
  },
  {
   "cell_type": "code",
   "execution_count": null,
   "metadata": {},
   "outputs": [],
   "source": []
  },
  {
   "cell_type": "code",
   "execution_count": null,
   "metadata": {},
   "outputs": [],
   "source": []
  },
  {
   "cell_type": "code",
   "execution_count": null,
   "metadata": {},
   "outputs": [],
   "source": []
  },
  {
   "cell_type": "code",
   "execution_count": null,
   "metadata": {},
   "outputs": [],
   "source": []
  },
  {
   "cell_type": "code",
   "execution_count": null,
   "metadata": {},
   "outputs": [],
   "source": []
  },
  {
   "cell_type": "code",
   "execution_count": null,
   "metadata": {},
   "outputs": [],
   "source": []
  },
  {
   "cell_type": "code",
   "execution_count": null,
   "metadata": {},
   "outputs": [],
   "source": []
  },
  {
   "cell_type": "code",
   "execution_count": null,
   "metadata": {},
   "outputs": [],
   "source": []
  },
  {
   "cell_type": "code",
   "execution_count": null,
   "metadata": {},
   "outputs": [],
   "source": []
  }
 ],
 "metadata": {
  "kernelspec": {
   "display_name": ".venv",
   "language": "python",
   "name": "python3"
  },
  "language_info": {
   "codemirror_mode": {
    "name": "ipython",
    "version": 3
   },
   "file_extension": ".py",
   "mimetype": "text/x-python",
   "name": "python",
   "nbconvert_exporter": "python",
   "pygments_lexer": "ipython3",
   "version": "3.10.11"
  }
 },
 "nbformat": 4,
 "nbformat_minor": 2
}
