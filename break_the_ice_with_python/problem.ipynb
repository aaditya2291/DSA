{
 "cells": [
  {
   "cell_type": "markdown",
   "metadata": {},
   "source": [
    "### Day 1 "
   ]
  },
  {
   "cell_type": "code",
   "execution_count": 1,
   "metadata": {},
   "outputs": [],
   "source": [
    "#Q1\n",
    "# Write a program which will find all such numbers which are divisible by 7 but are not a multiple of 5, \n",
    "# between 2000 and 3200 (both included).\n",
    "# The numbers obtained should be printed in a comma-separated sequence on a single line.\n"
   ]
  },
  {
   "cell_type": "code",
   "execution_count": 13,
   "metadata": {},
   "outputs": [
    {
     "name": "stdout",
     "output_type": "stream",
     "text": [
      "2002,2009,2016,2023,2037,2044,2051,2058,2072,2079,2086,2093,2107,2114,2121,2128,2142,2149,2156,2163,2177,2184,2191,2198,2212,2219,2226,2233,2247,2254,2261,2268,2282,2289,2296,2303,2317,2324,2331,2338,2352,2359,2366,2373,2387,2394,2401,2408,2422,2429,2436,2443,2457,2464,2471,2478,2492,2499,2506,2513,2527,2534,2541,2548,2562,2569,2576,2583,2597,2604,2611,2618,2632,2639,2646,2653,2667,2674,2681,2688,2702,2709,2716,2723,2737,2744,2751,2758,2772,2779,2786,2793,2807,2814,2821,2828,2842,2849,2856,2863,2877,2884,2891,2898,2912,2919,2926,2933,2947,2954,2961,2968,2982,2989,2996,3003,3017,3024,3031,3038,3052,3059,3066,3073,3087,3094,3101,3108,3122,3129,3136,3143,3157,3164,3171,3178,3192,3199,"
     ]
    }
   ],
   "source": [
    "#solution\n",
    "\n",
    "def div_retn():\n",
    "    for n in range(2000,3201):\n",
    "        if (n%7==0) and (n%5!=0):\n",
    "            print(n,end=',')\n",
    "                     \n",
    "div_retn()"
   ]
  },
  {
   "cell_type": "code",
   "execution_count": null,
   "metadata": {},
   "outputs": [],
   "source": [
    "#solution\n",
    "l = []\n",
    "def div_retn():\n",
    "    for n in range(2000,3201):\n",
    "        if (n%7==0) and (n%5!=0):\n",
    "            l.append(str(n))\n",
    "    return(','.join(l))\n",
    "div_retn()"
   ]
  },
  {
   "cell_type": "code",
   "execution_count": 11,
   "metadata": {},
   "outputs": [
    {
     "name": "stdout",
     "output_type": "stream",
     "text": [
      "[2002, 2009, 2016, 2023, 2037, 2044, 2051, 2058, 2072, 2079, 2086, 2093, 2107, 2114, 2121, 2128, 2142, 2149, 2156, 2163, 2177, 2184, 2191, 2198, 2212, 2219, 2226, 2233, 2247, 2254, 2261, 2268, 2282, 2289, 2296, 2303, 2317, 2324, 2331, 2338, 2352, 2359, 2366, 2373, 2387, 2394, 2401, 2408, 2422, 2429, 2436, 2443, 2457, 2464, 2471, 2478, 2492, 2499, 2506, 2513, 2527, 2534, 2541, 2548, 2562, 2569, 2576, 2583, 2597, 2604, 2611, 2618, 2632, 2639, 2646, 2653, 2667, 2674, 2681, 2688, 2702, 2709, 2716, 2723, 2737, 2744, 2751, 2758, 2772, 2779, 2786, 2793, 2807, 2814, 2821, 2828, 2842, 2849, 2856, 2863, 2877, 2884, 2891, 2898, 2912, 2919, 2926, 2933, 2947, 2954, 2961, 2968, 2982, 2989, 2996, 3003, 3017, 3024, 3031, 3038, 3052, 3059, 3066, 3073, 3087, 3094, 3101, 3108, 3122, 3129, 3136, 3143, 3157, 3164, 3171, 3178, 3192, 3199]\n"
     ]
    }
   ],
   "source": [
    "#Using generators and list comprehension\n",
    "print(list(i for i in range(2000,3200) if (i%7==0)and (i%5!=0)),sep=',')"
   ]
  },
  {
   "cell_type": "code",
   "execution_count": null,
   "metadata": {},
   "outputs": [],
   "source": [
    "#Q2\n",
    "# Write a program which can compute the factorial of a given numbers.\n",
    "# The results should be printed in a comma-separated sequence on a single line.\n",
    "# Suppose the following input is supplied to the program: 8 Then, the output should be:40320"
   ]
  },
  {
   "cell_type": "code",
   "execution_count": 21,
   "metadata": {},
   "outputs": [
    {
     "name": "stdout",
     "output_type": "stream",
     "text": [
      "1 /n\n",
      "1\n"
     ]
    }
   ],
   "source": [
    "x =-1\n",
    "#brute_force\n",
    "def fact(n):\n",
    "    if n <=0:\n",
    "        return 1\n",
    "    else:\n",
    "        mul=1\n",
    "        for i in range(n,1,-1):\n",
    "            mul=mul*i\n",
    "        return(mul)\n",
    "print(fact(x),'/n')     \n",
    "\n",
    "#recursively\n",
    "\n",
    "def fact_rec(n):\n",
    "    if n <=0:\n",
    "        return 1\n",
    "    else:\n",
    "        return(n*fact(n-1))\n",
    "print(fact_rec(x))\n"
   ]
  },
  {
   "cell_type": "code",
   "execution_count": null,
   "metadata": {},
   "outputs": [],
   "source": [
    "#Q3\n",
    "# With a given integral number n, write a program to generate a dictionary that contains (i, i x i) such that \n",
    "# is an integral number between 1 and n (both included). \n",
    "# and then the program should print the dictionary.Suppose the following input is supplied to the program: 8\n",
    "\n",
    "# Then, the output should be:\n",
    "# {1: 1, 2: 4, 3: 9, 4: 16, 5: 25, 6: 36, 7: 49, 8: 64}\n"
   ]
  },
  {
   "cell_type": "code",
   "execution_count": 3,
   "metadata": {},
   "outputs": [
    {
     "data": {
      "text/plain": [
       "{1: 1, 2: 4, 3: 9, 4: 16, 5: 25, 6: 36, 7: 49, 8: 64}"
      ]
     },
     "execution_count": 3,
     "metadata": {},
     "output_type": "execute_result"
    }
   ],
   "source": [
    "def sq_dict(n):\n",
    "    dict ={}\n",
    "    for i in range(1,n+1):\n",
    "        dict[i]=i*i\n",
    "    return dict\n",
    "sq_dict(8)"
   ]
  },
  {
   "cell_type": "markdown",
   "metadata": {},
   "source": [
    "### Day2"
   ]
  },
  {
   "cell_type": "code",
   "execution_count": null,
   "metadata": {},
   "outputs": [],
   "source": [
    "#Q4\n",
    "# Write a program which accepts a sequence of comma-separated numbers from console and generate a list and a tuple which contains every number.\n",
    "# Suppose the following input is supplied to the program:\n",
    "# 34,67,55,33,12,98\n",
    "# Then, the output should be:\n",
    "# ['34', '67', '55', '33', '12', '98']\n",
    "# ('34', '67', '55', '33', '12', '98')\n",
    "\n",
    "\n"
   ]
  },
  {
   "cell_type": "code",
   "execution_count": 10,
   "metadata": {},
   "outputs": [
    {
     "name": "stdout",
     "output_type": "stream",
     "text": [
      "['5', '6', '7', '8'] \n",
      "\n",
      "('5', '6', '7', '8')\n"
     ]
    }
   ],
   "source": [
    "\n",
    "l = input().split(',')\n",
    "print(l,'\\n')\n",
    "t = tuple(l)\n",
    "print(t)"
   ]
  },
  {
   "cell_type": "code",
   "execution_count": null,
   "metadata": {},
   "outputs": [],
   "source": [
    "# Q5:\n",
    "# Define a class which has at least two methods:\n",
    "\n",
    "# getString: to get a string from console input\n",
    "# printString: to print the string in upper case.\n",
    "# Also please include simple test function to test the class methods."
   ]
  },
  {
   "cell_type": "code",
   "execution_count": 11,
   "metadata": {},
   "outputs": [
    {
     "name": "stdout",
     "output_type": "stream",
     "text": [
      "ADITYA\n"
     ]
    }
   ],
   "source": [
    "class two_methods:\n",
    "    def __init__(self):\n",
    "        self.s=\"\"\n",
    "    def getString(self):\n",
    "        self.s = input()\n",
    "        \n",
    "    def printString(self):\n",
    "        print(self.s.upper())\n",
    "\n",
    "obj = two_methods()\n",
    "obj.getString()\n",
    "obj.printString()"
   ]
  },
  {
   "cell_type": "code",
   "execution_count": null,
   "metadata": {},
   "outputs": [],
   "source": [
    "# Q6:\n",
    "# Write a program that calculates and prints the value according to the given formula:\n",
    "# Q = Square root of [(2 _ C _ D)/H]\n",
    "# Following are the fixed values of C and H:\n",
    "# C is 50. H is 30.\n",
    "# D is the variable whose values should be input to your program in a comma-separated sequence.\n",
    "# For example Let us assume the following comma separated input sequence is given to the program:\n",
    "# 100,150,180\n",
    "# The output of the program should be:\n",
    "# 18,22,24\n",
    "\n"
   ]
  },
  {
   "cell_type": "code",
   "execution_count": 13,
   "metadata": {},
   "outputs": [
    {
     "data": {
      "text/plain": [
       "[18, 22, 24]"
      ]
     },
     "execution_count": 13,
     "metadata": {},
     "output_type": "execute_result"
    }
   ],
   "source": [
    "import math\n",
    "l = input().split(',')\n",
    "\n",
    "def calculation(l):\n",
    "    q=0\n",
    "    lst =[]\n",
    "    c=50\n",
    "    h=30\n",
    "    for i in l:\n",
    "        q = int(math.sqrt(2*c*int(i)/h))\n",
    "        lst.append(q)\n",
    "    return(lst)\n",
    "calculation(l) "
   ]
  },
  {
   "cell_type": "code",
   "execution_count": null,
   "metadata": {},
   "outputs": [],
   "source": [
    "# Q7:\n",
    "# _Write a program which takes 2 digits, X,Y as input and generates a 2-dimensional array. \n",
    "# The element value in the i-th row and j-th column of the array should be i _ j.*\n",
    "\n",
    "# Note: i=0,1.., X-1; j=0,1,¡­Y-1. Suppose the following inputs are given to the program: 3,5\n",
    "\n",
    "# Then, the output of the program should be:\n",
    "# [[0, 0, 0, 0, 0], [0, 1, 2, 3, 4], [0, 2, 4, 6, 8]]"
   ]
  },
  {
   "cell_type": "code",
   "execution_count": 18,
   "metadata": {},
   "outputs": [
    {
     "name": "stdout",
     "output_type": "stream",
     "text": [
      "['3', '5']\n"
     ]
    },
    {
     "data": {
      "text/plain": [
       "[[0, 0, 0, 0, 0], [0, 1, 2, 3, 4], [0, 2, 4, 6, 8]]"
      ]
     },
     "execution_count": 18,
     "metadata": {},
     "output_type": "execute_result"
    }
   ],
   "source": [
    "l = input().split(',')\n",
    "print(l)\n",
    "\n",
    "def con(l):\n",
    "    lst=[]\n",
    "    a=int(l[0])\n",
    "    b=int(l[1])\n",
    "    for i in range(a):\n",
    "        tmp = []\n",
    "        for j in range(b):\n",
    "            tmp.append(i*j)\n",
    "        lst.append(tmp)\n",
    "    return(lst)\n",
    "con(l)"
   ]
  },
  {
   "cell_type": "code",
   "execution_count": 12,
   "metadata": {},
   "outputs": [],
   "source": [
    "#Q8\n",
    "# Write a program that accepts a comma separated sequence of words as input and prints \n",
    "# the words in a comma-separated sequence after sorting them alphabetically.\n",
    "\n",
    "# Suppose the following input is supplied to the program:\n",
    "# without,hello,bag,world\n",
    "# Then, the output should be:\n",
    "# bag,hello,without,world\n",
    "\n"
   ]
  },
  {
   "cell_type": "code",
   "execution_count": 11,
   "metadata": {},
   "outputs": [
    {
     "name": "stdout",
     "output_type": "stream",
     "text": [
      "bag,hello,without,world\n"
     ]
    }
   ],
   "source": [
    "a = input().split(',')\n",
    "a.sort()\n",
    "print(','.join(a))"
   ]
  },
  {
   "cell_type": "code",
   "execution_count": 13,
   "metadata": {},
   "outputs": [],
   "source": [
    "# Question 9\n",
    "\n",
    "# Write a program that accepts sequence of lines as input \n",
    "# and prints the lines after making all characters in the sentence capitalized.\n",
    "\n",
    "# Suppose the following input is supplied to the program:\n",
    "# Hello world\n",
    "# Practice makes perfect\n",
    "\n",
    "# Then, the output should be:\n",
    "\n",
    "# HELLO WORLD\n",
    "# PRACTICE MAKES PERFECT\n"
   ]
  },
  {
   "cell_type": "code",
   "execution_count": null,
   "metadata": {},
   "outputs": [],
   "source": [
    "lst = []\n",
    "\n"
   ]
  },
  {
   "cell_type": "code",
   "execution_count": null,
   "metadata": {},
   "outputs": [],
   "source": []
  },
  {
   "cell_type": "code",
   "execution_count": null,
   "metadata": {},
   "outputs": [],
   "source": []
  },
  {
   "cell_type": "code",
   "execution_count": null,
   "metadata": {},
   "outputs": [],
   "source": []
  },
  {
   "cell_type": "code",
   "execution_count": null,
   "metadata": {},
   "outputs": [],
   "source": []
  },
  {
   "cell_type": "code",
   "execution_count": null,
   "metadata": {},
   "outputs": [],
   "source": []
  }
 ],
 "metadata": {
  "kernelspec": {
   "display_name": ".venv",
   "language": "python",
   "name": "python3"
  },
  "language_info": {
   "codemirror_mode": {
    "name": "ipython",
    "version": 3
   },
   "file_extension": ".py",
   "mimetype": "text/x-python",
   "name": "python",
   "nbconvert_exporter": "python",
   "pygments_lexer": "ipython3",
   "version": "3.10.11"
  }
 },
 "nbformat": 4,
 "nbformat_minor": 2
}
